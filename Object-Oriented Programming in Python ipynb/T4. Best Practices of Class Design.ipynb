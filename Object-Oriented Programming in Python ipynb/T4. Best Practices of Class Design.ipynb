{
 "cells": [
  {
   "cell_type": "markdown",
   "metadata": {},
   "source": [
    "## Best Practices of Class Design\n",
    "\n",
    "How do you design classes for inheritance? Does Python have private attributes? Is it possible to control attribute access? You'll find answers to these questions (and more) as you learn class design best practices."
   ]
  },
  {
   "cell_type": "markdown",
   "metadata": {},
   "source": [
    "### Square and rectangle\n",
    "The classic example of a problem that violates the Liskov Substitution Principle is the Circle-Ellipse problem, sometimes called the Square-Rectangle problem.\n",
    "\n",
    "By all means, it seems like you should be able to define a class Rectangle, with attributes h and w (for height and width), and then define a class Square that inherits from the Rectangle. After all, a square \"is-a\" rectangle!\n",
    "\n",
    "Unfortunately, this intuition doesn't apply to object-oriented design."
   ]
  },
  {
   "cell_type": "code",
   "execution_count": null,
   "metadata": {},
   "outputs": [],
   "source": [
    "# Define a Rectangle class\n",
    "class Rectangle:\n",
    "    def __init__(self, h, w):\n",
    "        self.h = h\n",
    "        self.w = w\n",
    "\n",
    "# Define a Square class\n",
    "class Square(Rectangle):\n",
    "    def __init__(self, w):\n",
    "        self.h = w\n",
    "        self.w = w"
   ]
  },
  {
   "cell_type": "code",
   "execution_count": null,
   "metadata": {},
   "outputs": [],
   "source": [
    "# A Square inherited from a Rectangle will always have both the h and w attributes, \n",
    "# but we can't allow them to change independently of each other.\n",
    "\n",
    "class Rectangle:\n",
    "    def __init__(self, w,h):\n",
    "      self.w, self.h = w,h\n",
    "      \n",
    "# Define set_h to set h       \n",
    "    def set_h(self, h):\n",
    "      self.h = h\n",
    "\n",
    "# Define set_w to set w\n",
    "    def set_w(self, w):\n",
    "      self.w = w   \n",
    "      \n",
    "class Square(Rectangle):\n",
    "    def __init__(self, w):\n",
    "      self.w, self.h = w, w \n",
    "      \n",
    "# Define set_h to set w and h \n",
    "    def set_h(self, h):\n",
    "      self.h = h\n",
    "      self.w = h\n",
    "      \n",
    "# Define set_w to set w and h \n",
    "    def set_w(self, w):\n",
    "      self.w = w   \n",
    "      self.h = w  \n",
    "      "
   ]
  },
  {
   "cell_type": "markdown",
   "metadata": {},
   "source": [
    "### Using internal attibutes\n",
    "In this exercise, you'll return to the BetterDate class of Chapter 2. Your date class is better because it will use the sensible convention of having exactly 30 days in each month.\n",
    "\n",
    "You decide to add a method that checks the validity of the date, but you don't want to make it a part of BetterDate public interface.\n",
    "\n",
    "The class BetterDate is available in the script pane."
   ]
  },
  {
   "cell_type": "code",
   "execution_count": 1,
   "metadata": {},
   "outputs": [
    {
     "name": "stdout",
     "output_type": "stream",
     "text": [
      "True\n",
      "None\n",
      "False\n",
      "None\n"
     ]
    }
   ],
   "source": [
    "# MODIFY to add class attributes for max number of days and months\n",
    "class BetterDate:\n",
    "    _MAX_DAYS = 30\n",
    "    __MAX_MONTH = 12\n",
    "    def __init__(self, year, month, day):\n",
    "      self.year, self.month, self.day = year, month, day\n",
    "      \n",
    "    @classmethod\n",
    "    def from_str(cls, datestr):\n",
    "        year, month, day = map(int, datestr.split(\"-\"))\n",
    "        return cls(year, month, day)\n",
    "    \n",
    "    # Add _is_valid() checking day and month values\n",
    "    def _is_valid(self):\n",
    "        if (self.day <= BetterDate._MAX_DAYS) & (self.month <= BetterDate.__MAX_MONTH):\n",
    "            print(True)\n",
    "        else: \n",
    "            print(False)\n",
    "         \n",
    "bd1 = BetterDate(2020, 4, 30)\n",
    "print(bd1._is_valid())\n",
    "\n",
    "bd2 = BetterDate(2020, 6, 45)\n",
    "print(bd2._is_valid())"
   ]
  },
  {
   "cell_type": "markdown",
   "metadata": {},
   "source": [
    "### Create and set properties\n",
    "There are two parts to defining a property:\n",
    "\n",
    "first, define an \"internal\" attribute that will contain the data;\n",
    "then, define a @property-decorated method whose name is the property name, and that returns the internal attribute storing the data.\n",
    "\n",
    "If you'd also like to define a custom setter method, there's an additional step:\n",
    "\n",
    "define another method whose name is exactly the property name (again), and decorate it with @prop_name.setter where prop_name is the name of the property. The method should take two arguments -- self (as always), and the value that's being assigned to the property.\n",
    "\n",
    "In this exercise, you'll create a balance property for a Customer class - a better, more controlled version of the balance attribute that you worked with before."
   ]
  },
  {
   "cell_type": "code",
   "execution_count": 3,
   "metadata": {},
   "outputs": [],
   "source": [
    "# Create a Customer class\n",
    "class Customer:\n",
    "    def __init__(self, name, new_bal):\n",
    "        self.name = name\n",
    "        if new_bal < 0:\n",
    "            raise ValueError\n",
    "        else:\n",
    "            self._balance = new_bal"
   ]
  },
  {
   "cell_type": "code",
   "execution_count": 4,
   "metadata": {},
   "outputs": [],
   "source": [
    "# Add a method balance() with a @property decorator that returns the _balance attribute.\n",
    "\n",
    "class Customer:\n",
    "    def __init__(self, name, new_bal):\n",
    "        self.name = name\n",
    "        if new_bal < 0:\n",
    "           raise ValueError(\"Invalid balance!\")\n",
    "        self._balance = new_bal  \n",
    "    \n",
    "    # Add a decorated balance() method returning _balance\n",
    "    @property\n",
    "    def balance(self):\n",
    "        return self._balance"
   ]
  },
  {
   "cell_type": "code",
   "execution_count": 5,
   "metadata": {},
   "outputs": [],
   "source": [
    "# Define another balance() method to serve as a setter, with the appropriate decorator and an additional parameter\n",
    "\n",
    "class Customer:\n",
    "    def __init__(self, name, new_bal):\n",
    "        self.name = name\n",
    "        if new_bal < 0:\n",
    "           raise ValueError(\"Invalid balance!\")\n",
    "        self._balance = new_bal  \n",
    "\n",
    "    # Add a decorated balance() method returning _balance        \n",
    "    @property\n",
    "    def balance(self):\n",
    "        return self._balance\n",
    "     \n",
    "    # Add a setter balance() method\n",
    "    @balance.setter\n",
    "    def balance(self, balance):\n",
    "        # Validate the parameter value\n",
    "        if balance < 0:\n",
    "           raise ValueError(\"Invalid balance!\")\n",
    "        self._balance = balance\n",
    "        \n",
    "        # Print \"Setter method is called\"\n",
    "        print(\"Setter method is called\")\n",
    "        "
   ]
  },
  {
   "cell_type": "code",
   "execution_count": 6,
   "metadata": {},
   "outputs": [
    {
     "name": "stdout",
     "output_type": "stream",
     "text": [
      "Setter method is called\n",
      "3000\n"
     ]
    }
   ],
   "source": [
    "# Create a Customer named Belinda Lutz with the balance of 2000 and save it as cust.\n",
    " \n",
    "cust = Customer('Belinda Lutz', 2000)\n",
    "\n",
    "# Assign 3000 to the balance property\n",
    "cust.balance = 3000\n",
    "\n",
    "# Print the balance property\n",
    "print(cust.balance)"
   ]
  },
  {
   "cell_type": "markdown",
   "metadata": {},
   "source": [
    "### Read-only properties\n",
    "The LoggedDF class from Chapter 2 was an extension of the pandas DataFrame class that had an additional created_at attribute that stored the timestamp when the DataFrame was created, so that the user could see how out-of-date the data is.\n",
    "\n",
    "But that class wasn't very useful: we could just assign any value to created_at after the DataFrame was created, thus defeating the whole point of the attribute! Now, using properties, we can make the attribute read-only."
   ]
  },
  {
   "cell_type": "code",
   "execution_count": 7,
   "metadata": {},
   "outputs": [],
   "source": [
    "import pandas as pd\n",
    "from datetime import datetime\n",
    "\n",
    "# MODIFY the class to turn created_at into a read-only property\n",
    "class LoggedDF(pd.DataFrame):\n",
    "    def __init__(self, *args, **kwargs):\n",
    "        pd.DataFrame.__init__(self, *args, **kwargs)\n",
    "        self.created_at = datetime.today()\n",
    "\n",
    "    def to_csv(self, *args, **kwargs):\n",
    "        temp = self.copy()\n",
    "        temp[\"created_at\"] = self.created_at\n",
    "        pd.DataFrame.to_csv(temp, *args, **kwargs)   \n",
    "\n",
    "ldf = LoggedDF({\"col1\": [1,2], \"col2\":[3,4]}) \n",
    "\n",
    "# Put into try-except block to catch AtributeError and print a message\n",
    "ldf.created_at = '2035-07-13'"
   ]
  }
 ],
 "metadata": {
  "kernelspec": {
   "display_name": "Python 3",
   "language": "python",
   "name": "python3"
  },
  "language_info": {
   "codemirror_mode": {
    "name": "ipython",
    "version": 3
   },
   "file_extension": ".py",
   "mimetype": "text/x-python",
   "name": "python",
   "nbconvert_exporter": "python",
   "pygments_lexer": "ipython3",
   "version": "3.8.3"
  }
 },
 "nbformat": 4,
 "nbformat_minor": 4
}
