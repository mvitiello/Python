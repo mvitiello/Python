{
 "cells": [
  {
   "cell_type": "markdown",
   "metadata": {},
   "source": [
    "## Integrating with Standard Python\n",
    "\n",
    "In this chapter, you'll learn how to make sure that objects that store the same data are considered equal, how to define and customize string representations of objects, and even how to create new error types. Through interactive exercises, you’ll learn how to further customize your classes to make them work more like standard Python data types."
   ]
  },
  {
   "cell_type": "markdown",
   "metadata": {},
   "source": [
    "### Overloading equality\n",
    "When comparing two objects of a custom class using ==, Python by default compares just the object references, not the data contained in the objects. To override this behavior, the class can implement the special _eq_() method, which accepts two arguments -- the objects to be compared -- and returns True or False. This method will be implicitly called when two objects are compared.\n",
    "\n",
    "The BankAccount class from the previous chapter is available for you in the script pane. It has one attribute, balance, and a withdraw() method. Two bank accounts with the same balance are not necessarily the same account, but a bank account usually has an account number, and two accounts with the same account number should be considered the same."
   ]
  },
  {
   "cell_type": "code",
   "execution_count": 4,
   "metadata": {},
   "outputs": [
    {
     "name": "stdout",
     "output_type": "stream",
     "text": [
      "True\n",
      "False\n"
     ]
    }
   ],
   "source": [
    "class BankAccount:\n",
    "   # MODIFY to initialize a number attribute\n",
    "    def __init__(self, number, balance=0):\n",
    "        self.number = number\n",
    "        self.balance = balance\n",
    "      \n",
    "    def withdraw(self, amount):\n",
    "        self.balance -= amount \n",
    "    \n",
    "    # Define __eq__ that returns True if the number attributes are equal \n",
    "    def __eq__(self, other):\n",
    "        return self.number == other.number   \n",
    "\n",
    "# Create accounts and compare them       \n",
    "acct1 = BankAccount(123,1000)\n",
    "acct2 = BankAccount(123,1000)\n",
    "acct3 = BankAccount(456,1000)\n",
    "print(acct1 == acct2)\n",
    "print(acct1 == acct3)"
   ]
  },
  {
   "cell_type": "markdown",
   "metadata": {},
   "source": [
    "### Checking class equality\n",
    "In the previous exercise, you defined a BankAccount class with a number attribute that was used for comparison. But if you were to compare a BankAccount object to an object of another class that also has a number attribute, you could end up with unexpected results.\n",
    "\n",
    "Running acct == pn will return True, even though we're comparing a phone number with a bank account number.\n",
    "\n",
    "It is good practice to check the class of objects passed to the _eq_() method to make sure the comparison makes sense."
   ]
  },
  {
   "cell_type": "code",
   "execution_count": 5,
   "metadata": {},
   "outputs": [
    {
     "name": "stdout",
     "output_type": "stream",
     "text": [
      "False\n"
     ]
    }
   ],
   "source": [
    "# Define class names\n",
    "class Phone:\n",
    "  def __init__(self, number):\n",
    "     self.number = number\n",
    "\n",
    "  def __eq__(self, other):\n",
    "    return self.number == other.number\n",
    "\n",
    "\n",
    "class BankAccount:\n",
    "    def __init__(self, number, balance=0):\n",
    "        self.number, self.balance = number, balance\n",
    "      \n",
    "    def withdraw(self, amount):\n",
    "        self.balance -= amount \n",
    "\n",
    "    # MODIFY to add a check for the type()\n",
    "    def __eq__(self, other):\n",
    "        return (self.number == other.number) & (type(self) == type(other)) \n",
    "\n",
    "acct = BankAccount(873555333)\n",
    "pn = Phone(873555333)\n",
    "print(acct == pn)"
   ]
  },
  {
   "cell_type": "markdown",
   "metadata": {},
   "source": [
    "### String representation of objects\n",
    "There are two special methods in Python that return a string representation of an object. _str_() is called when you use print() or str() on an object, and _repr_() is called when you use repr() on an object, print the object in the console without calling print(), or instead of _str_() if _str_() is not defined.\n",
    "\n",
    "_str_() is supposed to provide a \"user-friendly\" output describing an object, and _repr_() should return the expression that, when evaluated, will return the same object, ensuring the reproducibility of your code."
   ]
  },
  {
   "cell_type": "code",
   "execution_count": 6,
   "metadata": {},
   "outputs": [
    {
     "name": "stdout",
     "output_type": "stream",
     "text": [
      "Employee Name:Amar Howard\n",
      "\n",
      "       Employee salary:30000\n",
      "Employee Name:Carolyn Ramirez\n",
      "\n",
      "       Employee salary:35000\n"
     ]
    }
   ],
   "source": [
    "#Add the __str__() method to Employee\n",
    "class Employee:\n",
    "    def __init__(self, name, salary=30000):\n",
    "        self.name, self.salary = name, salary\n",
    "            \n",
    "    # Add the __str__() method\n",
    "    def __str__(self):\n",
    "        emp_str = \"\"\"Employee Name:{name}\\n\n",
    "       Employee salary:{salary}\"\"\".format(name = self.name, salary = self.salary)\n",
    "        return emp_str\n",
    "    \n",
    "emp1 = Employee(\"Amar Howard\", 30000)\n",
    "print(emp1)\n",
    "emp2 = Employee(\"Carolyn Ramirez\", 35000)\n",
    "print(emp2)"
   ]
  },
  {
   "cell_type": "code",
   "execution_count": 7,
   "metadata": {},
   "outputs": [
    {
     "name": "stdout",
     "output_type": "stream",
     "text": [
      "Employee('Amar Howard',30000)\n",
      "Employee('Carolyn Ramirez',35000)\n"
     ]
    }
   ],
   "source": [
    "#Add the __repr__() method\n",
    "\n",
    "class Employee:\n",
    "    def __init__(self, name, salary=30000):\n",
    "        self.name, self.salary = name, salary\n",
    "      \n",
    "\n",
    "    def __str__(self):\n",
    "        s = \"Employee name: {name}\\nEmployee salary: {salary}\".format(name=self.name, salary=self.salary)      \n",
    "        return s\n",
    "      \n",
    "    # Add the __repr__method  \n",
    "    def __repr__(self):\n",
    "         sr = \"Employee('{name}',{salary})\".format(name=self.name, salary=self.salary)\n",
    "         return sr\n",
    "\n",
    "emp1 = Employee(\"Amar Howard\", 30000)\n",
    "print(repr(emp1))\n",
    "emp2 = Employee(\"Carolyn Ramirez\", 35000)\n",
    "print(repr(emp2))"
   ]
  },
  {
   "cell_type": "markdown",
   "metadata": {},
   "source": [
    "### Catching exceptions\n",
    "Before you start writing your own custom exceptions, let's make sure you have the basics of handling exceptions down.\n",
    "\n",
    "In this exercise, you are given a function invert_at_index(x, ind) that takes two arguments, a list x and an index ind, and inverts the element of the list at that index. For example invert_at_index([5,6,7], 1) returns 1/6, or 0.166666 .\n",
    "\n",
    "Try running the code as-is and examine the output in the console. There are two unsafe operations in this function: first, if the element that we're trying to invert has the value 0, then the code will cause a ZeroDivisionError exception. Second, if the index passed to the function is out of range for the list, the code will cause a IndexError. In both cases, the script will be interrupted, which might not be desirable."
   ]
  },
  {
   "cell_type": "code",
   "execution_count": 8,
   "metadata": {},
   "outputs": [
    {
     "name": "stdout",
     "output_type": "stream",
     "text": [
      "0.16666666666666666\n",
      "Cannot divide by zero!\n",
      "None\n",
      "Index out of range!\n",
      "None\n"
     ]
    }
   ],
   "source": [
    "# MODIFY the function to catch exceptions\n",
    "def invert_at_index(x, ind):\n",
    "    try: \n",
    "        return 1/x[ind]\n",
    "    except ZeroDivisionError:\n",
    "        print(\"Cannot divide by zero!\")\n",
    "    except IndexError:\n",
    "        print(\"Index out of range!\")\n",
    " \n",
    "a = [5,6,0,7]\n",
    "\n",
    "# Works okay\n",
    "print(invert_at_index(a, 1))\n",
    "\n",
    "# Potential ZeroDivisionError\n",
    "print(invert_at_index(a, 2))\n",
    "\n",
    "# Potential IndexError\n",
    "print(invert_at_index(a, 5))"
   ]
  },
  {
   "cell_type": "markdown",
   "metadata": {},
   "source": [
    "### Custom exceptions\n",
    "You don't have to rely solely on built-in exceptions like IndexError: you can define your own exceptions more specific to your application. You can also define exception hierarchies. All you need to define an exception is a class inherited from the built-in Exception class or one of its subclasses.\n",
    "\n",
    "In Chapter 1, you defined an Employee class and used print statements and default values to handle errors like creating an employee with a salary below the minimum or giving a raise that is too big. A better way to handle this situation is to use exceptions. Because these errors are specific to our application (unlike, for example, a division by zero error which is universal), it makes sense to use custom exception classes."
   ]
  },
  {
   "cell_type": "code",
   "execution_count": null,
   "metadata": {},
   "outputs": [],
   "source": [
    "class SalaryError(ValueError): pass\n",
    "class BonusError(SalaryError): pass\n",
    "\n",
    "class Employee:\n",
    "  MIN_SALARY = 30000\n",
    "  MAX_RAISE = 5000\n",
    "\n",
    "  def __init__(self, name, salary = 30000):\n",
    "    self.name = name\n",
    "    \n",
    "    # If salary is too low\n",
    "    if self.salary < Employee.MIN_SALARY:\n",
    "      # Raise a SalaryError exception\n",
    "      raise SalaryError(\"Salary is too low!\")\n",
    "      \n",
    "    self.salary = salary\n",
    "      "
   ]
  },
  {
   "cell_type": "code",
   "execution_count": 10,
   "metadata": {},
   "outputs": [],
   "source": [
    "# Examine the give_bonus() method, and the rewrite it using exceptions\n",
    "\n",
    "class SalaryError(ValueError): pass\n",
    "class BonusError(SalaryError): pass\n",
    "\n",
    "class Employee:\n",
    "  MIN_SALARY = 30000\n",
    "  MAX_BONUS = 5000\n",
    "\n",
    "  def __init__(self, name, salary = 30000):\n",
    "    self.name = name    \n",
    "    if salary < Employee.MIN_SALARY:\n",
    "      raise SalaryError(\"Salary is too low!\")      \n",
    "    self.salary = salary\n",
    "    \n",
    "  # Rewrite using exceptions  \n",
    "  def give_bonus(self, amount):\n",
    "    if amount > Employee.MAX_BONUS:\n",
    "       raise BonusError(\"The bonus amount is too high!\")  \n",
    "        \n",
    "    elif self.salary + amount <  Employee.MIN_SALARY:\n",
    "      raise SalaryError(\"The salary after bonus is too low!\")\n",
    "      \n",
    "    else:  \n",
    "      self.salary += amount"
   ]
  }
 ],
 "metadata": {
  "kernelspec": {
   "display_name": "Python 3",
   "language": "python",
   "name": "python3"
  },
  "language_info": {
   "codemirror_mode": {
    "name": "ipython",
    "version": 3
   },
   "file_extension": ".py",
   "mimetype": "text/x-python",
   "name": "python",
   "nbconvert_exporter": "python",
   "pygments_lexer": "ipython3",
   "version": "3.8.3"
  }
 },
 "nbformat": 4,
 "nbformat_minor": 4
}
