{
 "cells": [
  {
   "cell_type": "markdown",
   "metadata": {},
   "source": [
    "## Model Tuning\n",
    "\n",
    "The hyperparameters of a machine learning model are parameters that are not learned from data. They should be set prior to fitting the model to the training set. In this chapter, you'll learn how to tune the hyperparameters of a tree-based model using grid search cross validation."
   ]
  },
  {
   "cell_type": "markdown",
   "metadata": {},
   "source": [
    "### Set the tree's hyperparameter grid\n",
    "In this exercise, you'll manually set the grid of hyperparameters that will be used to tune the classification tree dt and find the optimal classifier in the next exercise."
   ]
  },
  {
   "cell_type": "code",
   "execution_count": null,
   "metadata": {},
   "outputs": [],
   "source": [
    "#Tuning a CART's Hyperparameters\n",
    "\n",
    "# parameters: learned from data \n",
    "# (e.g., in CARTs, split-point of  a node)\n",
    "# hyperparameters: not learned from data, set prior training \n",
    "# (e.g., in CARTs, max_depth)\n",
    "\n",
    "# you should find a set of optimal hyperparameters to obtain \n",
    "# an optimal score\n",
    "\n",
    "# grid search cross validation is used to model tuning \n",
    "\n",
    "# recall grid search, a set of values of each parameter is given \n",
    "# so model is evaluated in each combination of parameters\n",
    "\n",
    "# Tree hyperparameters\n",
    "# In the following exercises you'll revisit the Indian Liver \n",
    "# Patient dataset which was introduced in a previous chapter.\n",
    "\n",
    "# Your task is to tune the hyperparameters of a classification \n",
    "# tree. Given that this dataset is imbalanced, you'll be using \n",
    "# the ROC AUC score as a metric instead of accuracy.\n",
    "\n",
    "# Import pandas to read csv\n",
    "import pandas as pd\n",
    "# Import utility functions\n",
    "from sklearn.model_selection import train_test_split, GridSearchCV \n",
    "from sklearn.tree import DecisionTreeClassifier\n",
    "from sklearn.metrics import roc_auc_score \n",
    "\n",
    "SEED = 1\n",
    "\n",
    "# Load data\n",
    "data = pd.read_csv('indian_liver_patient_preprocessed.csv')\n",
    "# seprate variables\n",
    "y = data['Liver_disease']\n",
    "X = data.iloc[:,1:]\n",
    "\n",
    "# split the data\n",
    "X_train, X_test, y_train, y_test = train_test_split(X,y, test_size = 0.2, \n",
    "                                         stratify = y, \n",
    "                                         random_state = SEED)\n",
    "\n",
    "# Define params_dt\n",
    "params_dt = {'max_depth': [2,3,4], \n",
    "             'min_samples_leaf':[0.12, 0.14, 0.16, 0.18]}\n",
    "\n",
    "# classification tree\n",
    "dt = DecisionTreeClassifier(max_depth = 1, random_state = SEED)"
   ]
  },
  {
   "cell_type": "markdown",
   "metadata": {},
   "source": [
    "### Search for the optimal tree\n",
    "In this exercise, you'll perform grid search using 5-fold cross validation to find dt's optimal hyperparameters. Note that because grid search is an exhaustive process, it may take a lot time to train the model. Here you'll only be instantiating the GridSearchCV object without fitting it to the training set. As discussed in the video, you can train such an object similar to any scikit-learn estimator by using the .fit() method:\n",
    "\n",
    "grid_object.fit(X_train, y_train)\n",
    "An untuned classification tree dt as well as the dictionary params_dt that you defined in the previous exercise are available in your workspace."
   ]
  },
  {
   "cell_type": "code",
   "execution_count": null,
   "metadata": {},
   "outputs": [],
   "source": [
    "# Instantiate grid_dt\n",
    "grid_dt = GridSearchCV(estimator= dt,\n",
    "                       param_grid=params_dt,\n",
    "                       scoring= 'roc_auc',\n",
    "                       cv= 5,\n",
    "                       n_jobs=-1)\n",
    "\n",
    "# fit, predict, accuracy (ROC-AUC CURVE)\n",
    "grid_dt.fit(X_train, y_train)"
   ]
  },
  {
   "cell_type": "markdown",
   "metadata": {},
   "source": [
    "### Evaluate the optimal tree\n",
    "In this exercise, you'll evaluate the test set ROC AUC score of grid_dt's optimal model.\n",
    "\n",
    "In order to do so, you will first determine the probability of obtaining the positive label for each test set observation. You can use the methodpredict_proba() of an sklearn classifier to compute a 2D array containing the probabilities of the negative and positive class-labels respectively along columns.\n",
    "\n",
    "The dataset is already loaded and processed for you (numerical features are standardized); it is split into 80% train and 20% test. X_test, y_test are available in your workspace. In addition, we have also loaded the trained GridSearchCV object grid_dt that you instantiated in the previous exercise. Note that grid_dt was trained as follows:\n",
    "\n",
    "grid_dt.fit(X_train, y_train)"
   ]
  },
  {
   "cell_type": "code",
   "execution_count": 12,
   "metadata": {},
   "outputs": [
    {
     "name": "stdout",
     "output_type": "stream",
     "text": [
      "Test set ROC AUC score: 0.610\n"
     ]
    }
   ],
   "source": [
    "# Extract the best estimator\n",
    "best_model = grid_dt.best_estimator_\n",
    "# Predict the test set probabilities of the positive class\n",
    "y_pred_proba =   grid_dt.predict_proba(X_test)[:,1]\n",
    "# Compute test_roc_auc\n",
    "test_roc_auc = roc_auc_score(y_test, y_pred_proba)\n",
    "# Print test_roc_auc\n",
    "print('Test set ROC AUC score: {:.3f}'.format(test_roc_auc))"
   ]
  },
  {
   "cell_type": "markdown",
   "metadata": {},
   "source": [
    "### Set the hyperparameter grid of RF\n",
    "In this exercise, you'll manually set the grid of hyperparameters that will be used to tune rf's hyperparameters and find the optimal regressor. For this purpose, you will be constructing a grid of hyperparameters and tune the number of estimators, the maximum number of features used when splitting each node and the minimum number of samples (or fraction) per leaf."
   ]
  },
  {
   "cell_type": "code",
   "execution_count": null,
   "metadata": {},
   "outputs": [],
   "source": [
    "# Tuning a RF's Hyperparameters\n",
    "\n",
    "# In the following exercises, you'll be revisiting the \n",
    "# Bike Sharing Demand dataset that was introduced in a \n",
    "# previous chapter. Recall that your task is to predict \n",
    "# the bike rental demand using historical weather data \n",
    "# from the Capital Bikeshare program in Washington, D.C.. \n",
    "# For this purpose, you'll be tuning the hyperparameters of \n",
    "# a Random Forests regressor.\n",
    "\n",
    "# download module\n",
    "from sklearn.ensemble import RandomForestRegressor\n",
    "from sklearn.metrics import mean_squared_error as MSE \n",
    "\n",
    "# Load data\n",
    "data = pd.read_csv('Bike Sharing Demand.csv')\n",
    "# seprate variables\n",
    "y = data['cnt']\n",
    "X = data.iloc[:,1:]\n",
    "# split the data\n",
    "X_train, X_test, y_train, y_test = train_test_split(X,y, \n",
    "                                                    test_size = 0.3, \n",
    "                                                    random_state = 2)\n",
    "# instantiate a random forest \n",
    "rf = RandomForestRegressor(n_estimators = 400, \n",
    "                           min_samples_leaf = 0.16,\n",
    "                           random_state = SEED)\n",
    "\n",
    "\n",
    "# Define the dictionary 'params_rf'\n",
    "params_rf = {'n_estimators': [100,350,500],\n",
    "             'max_features':['log2', 'auto', 'sqrt'], \n",
    "             'min_samples_leaf':[2, 10, 30]}"
   ]
  },
  {
   "cell_type": "markdown",
   "metadata": {},
   "source": [
    "### Search for the optimal forest\n",
    "In this exercise, you'll perform grid search using 3-fold cross validation to find rf's optimal hyperparameters. To evaluate each model in the grid, you'll be using the negative mean squared error metric.\n",
    "\n",
    "Note that because grid search is an exhaustive search process, it may take a lot time to train the model. Here you'll only be instantiating the GridSearchCV object without fitting it to the training set. As discussed in the video, you can train such an object similar to any scikit-learn estimator by using the .fit() method:\n",
    "\n",
    "grid_object.fit(X_train, y_train)\n",
    "\n",
    "The untuned random forests regressor model rf as well as the dictionary params_rf that you defined in the previous exercise are available in your workspace."
   ]
  },
  {
   "cell_type": "code",
   "execution_count": null,
   "metadata": {},
   "outputs": [],
   "source": [
    "# Instantiate grid_rf\n",
    "grid_rf = GridSearchCV(estimator= rf,\n",
    "                       param_grid=params_rf,scoring='neg_mean_squared_error',\n",
    "                       cv= 3,verbose=1, n_jobs=-1)"
   ]
  },
  {
   "cell_type": "markdown",
   "metadata": {},
   "source": [
    "### Evaluate the optimal forest\n",
    "In this last exercise of the course, you'll evaluate the test set RMSE of grid_rf's optimal model.\n",
    "\n",
    "The dataset is already loaded and processed for you and is split into 80% train and 20% test. In your environment are available X_test, y_test and the function mean_squared_error from sklearn.metrics under the alias MSE. In addition, we have also loaded the trained GridSearchCV object grid_rf that you instantiated in the previous exercise. Note that grid_rf was trained as follows:\n",
    "\n",
    "grid_rf.fit(X_train, y_train)"
   ]
  },
  {
   "cell_type": "code",
   "execution_count": 10,
   "metadata": {},
   "outputs": [
    {
     "name": "stdout",
     "output_type": "stream",
     "text": [
      "Fitting 3 folds for each of 27 candidates, totalling 81 fits\n"
     ]
    },
    {
     "name": "stderr",
     "output_type": "stream",
     "text": [
      "[Parallel(n_jobs=-1)]: Using backend LokyBackend with 12 concurrent workers.\n",
      "[Parallel(n_jobs=-1)]: Done  26 tasks      | elapsed:    2.6s\n",
      "[Parallel(n_jobs=-1)]: Done  81 out of  81 | elapsed:    5.9s finished\n"
     ]
    },
    {
     "name": "stdout",
     "output_type": "stream",
     "text": [
      "Test RMSE of best model: 51.880\n"
     ]
    }
   ],
   "source": [
    "# fit \n",
    "grid_rf.fit(X_train, y_train)\n",
    "#Extract the best estimator\n",
    "best_model = grid_rf.best_estimator_\n",
    "\n",
    "\n",
    "# Predict test set labels\n",
    "y_pred = best_model.predict(X_test)\n",
    "\n",
    "# Compute rmse_test\n",
    "rmse_test = MSE(y_test, y_pred)**(1/2)\n",
    "\n",
    "# Print rmse_test\n",
    "print('Test RMSE of best model: {:.3f}'.format(rmse_test)) "
   ]
  },
  {
   "cell_type": "code",
   "execution_count": null,
   "metadata": {},
   "outputs": [],
   "source": []
  }
 ],
 "metadata": {
  "kernelspec": {
   "display_name": "Python 3",
   "language": "python",
   "name": "python3"
  },
  "language_info": {
   "codemirror_mode": {
    "name": "ipython",
    "version": 3
   },
   "file_extension": ".py",
   "mimetype": "text/x-python",
   "name": "python",
   "nbconvert_exporter": "python",
   "pygments_lexer": "ipython3",
   "version": "3.8.3"
  }
 },
 "nbformat": 4,
 "nbformat_minor": 4
}
