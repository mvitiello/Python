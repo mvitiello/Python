{
 "cells": [
  {
   "cell_type": "markdown",
   "metadata": {},
   "source": [
    "## Clustering in Real World\n",
    "Now that you are familiar with two of the most popular clustering techniques, this chapter helps you apply this knowledge to real-world problems. The chapter first discusses the process of finding dominant colors in an image, before moving on to the problem discussed in the introduction - clustering of news articles. The chapter concludes with a discussion on clustering with multiple variables, which makes it difficult to visualize all the data."
   ]
  },
  {
   "cell_type": "markdown",
   "metadata": {},
   "source": [
    "### Extract RGB values from image\n",
    "There are broadly three steps to find the dominant colors in an image:\n",
    "\n",
    "Extract RGB values into three lists.\n",
    "Perform k-means clustering on scaled RGB values.\n",
    "Display the colors of cluster centers.\n",
    "To extract RGB values, we use the imread() function of the image class of matplotlib. Empty lists, r, g and b have been initialized."
   ]
  },
  {
   "cell_type": "code",
   "execution_count": 25,
   "metadata": {},
   "outputs": [
    {
     "data": {
      "text/html": [
       "<div>\n",
       "<style scoped>\n",
       "    .dataframe tbody tr th:only-of-type {\n",
       "        vertical-align: middle;\n",
       "    }\n",
       "\n",
       "    .dataframe tbody tr th {\n",
       "        vertical-align: top;\n",
       "    }\n",
       "\n",
       "    .dataframe thead th {\n",
       "        text-align: right;\n",
       "    }\n",
       "</style>\n",
       "<table border=\"1\" class=\"dataframe\">\n",
       "  <thead>\n",
       "    <tr style=\"text-align: right;\">\n",
       "      <th></th>\n",
       "      <th>red</th>\n",
       "      <th>blue</th>\n",
       "      <th>green</th>\n",
       "      <th>scaled_red</th>\n",
       "      <th>scaled_blue</th>\n",
       "      <th>scaled_green</th>\n",
       "    </tr>\n",
       "  </thead>\n",
       "  <tbody>\n",
       "    <tr>\n",
       "      <th>0</th>\n",
       "      <td>245</td>\n",
       "      <td>250</td>\n",
       "      <td>255</td>\n",
       "      <td>3.371935</td>\n",
       "      <td>4.123695</td>\n",
       "      <td>3.942805</td>\n",
       "    </tr>\n",
       "    <tr>\n",
       "      <th>1</th>\n",
       "      <td>245</td>\n",
       "      <td>249</td>\n",
       "      <td>254</td>\n",
       "      <td>3.371935</td>\n",
       "      <td>4.107200</td>\n",
       "      <td>3.927343</td>\n",
       "    </tr>\n",
       "    <tr>\n",
       "      <th>2</th>\n",
       "      <td>249</td>\n",
       "      <td>253</td>\n",
       "      <td>255</td>\n",
       "      <td>3.426987</td>\n",
       "      <td>4.173179</td>\n",
       "      <td>3.942805</td>\n",
       "    </tr>\n",
       "    <tr>\n",
       "      <th>3</th>\n",
       "      <td>251</td>\n",
       "      <td>254</td>\n",
       "      <td>255</td>\n",
       "      <td>3.454513</td>\n",
       "      <td>4.189674</td>\n",
       "      <td>3.942805</td>\n",
       "    </tr>\n",
       "    <tr>\n",
       "      <th>4</th>\n",
       "      <td>250</td>\n",
       "      <td>251</td>\n",
       "      <td>255</td>\n",
       "      <td>3.440750</td>\n",
       "      <td>4.140190</td>\n",
       "      <td>3.942805</td>\n",
       "    </tr>\n",
       "  </tbody>\n",
       "</table>\n",
       "</div>"
      ],
      "text/plain": [
       "   red  blue  green  scaled_red  scaled_blue  scaled_green\n",
       "0  245   250    255    3.371935     4.123695      3.942805\n",
       "1  245   249    254    3.371935     4.107200      3.927343\n",
       "2  249   253    255    3.426987     4.173179      3.942805\n",
       "3  251   254    255    3.454513     4.189674      3.942805\n",
       "4  250   251    255    3.440750     4.140190      3.942805"
      ]
     },
     "execution_count": 25,
     "metadata": {},
     "output_type": "execute_result"
    }
   ],
   "source": [
    "import pandas as pd\n",
    "import matplotlib.image as img\n",
    "import numpy as np\n",
    "from scipy.cluster.vq import whiten,kmeans, vq\n",
    "from matplotlib import pyplot as plt\n",
    "import seaborn as sns\n",
    "\n",
    "image = img.imread('sea.jpg') # \n",
    "image.shape\n",
    "\n",
    "r,g,b = [], [],[]\n",
    "\n",
    "for row in image:\n",
    "    for pixel in row:\n",
    "    #A pixel contains rgb values\n",
    "        temp_r, temp_g, temp_b = pixel\n",
    "        r.append(temp_r)\n",
    "        g.append(temp_g)\n",
    "        b.append(temp_b)\n",
    "        \n",
    "pixels = pd.DataFrame({'red':r, 'blue':b, 'green':g})\n",
    "\n",
    "# normalize data \n",
    "pixels['scaled_red']   = whiten(pixels['red'] )\n",
    "pixels['scaled_blue']  = whiten(pixels['blue'] )\n",
    "pixels['scaled_green'] = whiten(pixels['green'] )\n",
    "\n",
    "pixels.head()"
   ]
  },
  {
   "cell_type": "markdown",
   "metadata": {},
   "source": [
    "### How many dominant colors?\n",
    "We have loaded the following image using the imread() function of the image class of matplotlib.\n",
    "\n",
    "The RGB values are stored in a data frame, pixels. The RGB values have been standardized used the whiten() function, stored in columns, scaled_red, scaled_blue and scaled_green.\n",
    "\n",
    "Construct an elbow plot with the data frame. How many dominant colors are present?"
   ]
  },
  {
   "cell_type": "code",
   "execution_count": 36,
   "metadata": {},
   "outputs": [
    {
     "data": {
      "image/png": "[encoded data removed]",
      "text/plain": [
       "<Figure size 432x288 with 1 Axes>"
      ]
     },
     "metadata": {
      "needs_background": "light"
     },
     "output_type": "display_data"
    }
   ],
   "source": [
    "## create an elbow plot\n",
    "distortions = []\n",
    "num_clusters =  range(2, 5)\n",
    "\n",
    "# create a list of distortions from the kmeans method\n",
    "for k in num_clusters:\n",
    "    cluster_centers, distortion = kmeans(pixels[['scaled_red', 'scaled_blue', 'scaled_green']], k)\n",
    "    distortions.append(distortion)\n",
    "\n",
    "#create a df with numbers of clusters and distortions\n",
    "df = pd.DataFrame({'num_clusters':num_clusters, \n",
    "                'distortions':distortions})\n",
    "\n",
    "# Create a line plot of num_clusters and distortions\n",
    "sns.lineplot(x= 'num_clusters', y='distortions', data = df)\n",
    "plt.xticks(num_clusters)\n",
    "plt.show()\n",
    "\n",
    "#the optimal number of cluster is 3 "
   ]
  },
  {
   "cell_type": "markdown",
   "metadata": {},
   "source": [
    "### Display dominant colors\n",
    "We have loaded the following image using the imread() function of the image class of matplotlib.\n",
    "\n",
    "To display the dominant colors, convert the colors of the cluster centers to their raw values and then converted them to the range of 0-1, using the following formula: converted_pixel = standardized_pixel * pixel_std / 255\n",
    "\n",
    "The RGB values are stored in a data frame, pixels. The scaled RGB values are stored in columns, scaled_red, scaled_blue and scaled_green. The cluster centers are stored in the variable cluster_centers, which were generated using the kmeans() function with three clusters."
   ]
  },
  {
   "cell_type": "code",
   "execution_count": 37,
   "metadata": {},
   "outputs": [
    {
     "name": "stderr",
     "output_type": "stream",
     "text": [
      "Clipping input data to the valid range for imshow with RGB data ([0..1] for floats or [0..255] for integers).\n"
     ]
    },
    {
     "data": {
      "image/png": "[encoded data removed]",
      "text/plain": [
       "<Figure size 432x288 with 1 Axes>"
      ]
     },
     "metadata": {
      "needs_background": "light"
     },
     "output_type": "display_data"
    }
   ],
   "source": [
    "## find dominat colors\n",
    "cluster_centers, _ = kmeans(pixels[['scaled_red', 'scaled_blue','scaled_green']], 3)\n",
    "# Get standard deviations of each color\n",
    "r_std, g_std, b_std  = pixels[['red', 'green', 'blue']].std()\n",
    "\n",
    "for cluster_center in cluster_centers:\n",
    "    scaled_r, scaled_g, scaled_b = cluster_center\n",
    "    # Convert each standardized value to scaled value\n",
    "    colors.append((\n",
    "        scaled_r *  r_std/ 255,\n",
    "        scaled_g * g_std / 255,\n",
    "        scaled_b * b_std/ 255\n",
    "    ))\n",
    "\n",
    "# Display colors of cluster centers\n",
    "plt.imshow([colors])\n",
    "plt.show()\n"
   ]
  },
  {
   "cell_type": "code",
   "execution_count": null,
   "metadata": {},
   "outputs": [],
   "source": [
    "### Document clustering\n",
    "# import nltk\n",
    "# nltk.download()\n",
    "from nltk import word_tokenize\n",
    "import re\n",
    "\n",
    "# convert text into smaller parts - tokens, clean data for processing\n",
    "def remove_noise(text, stop_words =[]):\n",
    "    tokens = word_tokenize(text)\n",
    "    cleaned_tokens = []\n",
    "    for token in tokens:\n",
    "        token = re.sub('[^A-Za-z0-9]+', '', token)\n",
    "        if len(token) > 1 and token.lower() not in stop_words:\n",
    "            #Get lowercase\n",
    "            cleaned_tokens.append(token.lower())\n",
    "            \n",
    "    return cleaned_tokens\n",
    "\n",
    "#example\n",
    "print(remove_noise(\"It is lovely weather we are having. I hope the weather continues\"))\n",
    "\n",
    "# this function does not work in the same way that in datacamp\n",
    "# problem with nltk"
   ]
  },
  {
   "cell_type": "markdown",
   "metadata": {},
   "source": [
    "### TF-IDF of movie plots\n",
    "Let us use the plots of randomly selected movies to perform document clustering on. Before performing clustering on documents, they need to be cleaned of any unwanted noise (such as special characters and stop words) and converted into a sparse matrix through TF-IDF of the documents.\n",
    "\n",
    "Use the TfidfVectorizer class to perform the TF-IDF of movie plots stored in the list plots. The remove_noise() function is available to use as a tokenizer in the TfidfVectorizer class. The .fit_transform() method fits the data into the TfidfVectorizer objects and then generates the TF-IDF sparse matrix.\n",
    "\n",
    "Note: It takes a few seconds to run the .fit_transform() method."
   ]
  },
  {
   "cell_type": "code",
   "execution_count": 55,
   "metadata": {},
   "outputs": [
    {
     "name": "stdout",
     "output_type": "stream",
     "text": [
      "  (0, 1)\t1.0\n",
      "  (1, 0)\t1.0\n"
     ]
    }
   ],
   "source": [
    "# load data\n",
    "plots = pd.read_csv('movies_plot.csv')\n",
    "\n",
    "# Import TfidfVectorizer class from sklearn\n",
    "from sklearn.feature_extraction.text import TfidfVectorizer\n",
    "\n",
    "# Initialize the TfidfVectorizer class with minimum and maximum frequencies \n",
    "# of 0.1 and 0.75, and 50 maximum features.\n",
    "tfidf_vectorizer = TfidfVectorizer(max_df = 0.75, max_features = 50, \n",
    "                                   min_df = 0.1, tokenizer =  remove_noise)\n",
    "\n",
    "# Use the fit_transform() method on the initialized TfidfVectorizer class \n",
    "# with the list plots.\n",
    "tfidf_matrix = tfidf_vectorizer.fit_transform (plots)\n",
    "print(tfidf_matrix)"
   ]
  },
  {
   "cell_type": "markdown",
   "metadata": {},
   "source": [
    "### Top terms in movie clusters\n",
    "Now that you have created a sparse matrix, generate cluster centers and print the top three terms in each cluster. Use the .todense() method to convert the sparse matrix, tfidf_matrix to a normal matrix for the kmeans() function to process. Then, use the .get_feature_names() method to get a list of terms in the tfidf_vectorizer object. The zip() function in Python joins two lists.\n",
    "\n",
    "The tfidf_vectorizer object and sparse matrix, tfidf_matrix, from the previous have been retained in this exercise. kmeans has been imported from SciPy.\n",
    "\n",
    "With a higher number of data points, the clusters formed would be defined more clearly. However, this requires some computational power, making it difficult to accomplish in an exercise here."
   ]
  },
  {
   "cell_type": "code",
   "execution_count": 54,
   "metadata": {},
   "outputs": [
    {
     "name": "stdout",
     "output_type": "stream",
     "text": [
      "['plot', 'title']\n",
      "['title', 'plot']\n"
     ]
    }
   ],
   "source": [
    "# define # clusters\n",
    "num_clusters = 2\n",
    "\n",
    "# Generate cluster centers through the kmeans function\n",
    "cluster_centers, distortion = kmeans(tfidf_matrix.todense(), num_clusters)\n",
    "\n",
    "# Generate terms from the tfidf_vectorizer object\n",
    "terms = tfidf_vectorizer.get_feature_names()\n",
    "\n",
    "for i in range(num_clusters):\n",
    "    # Sort the terms and print top 3 terms\n",
    "    center_terms = dict(zip(terms, list(cluster_centers[i])))\n",
    "    sorted_terms = sorted(center_terms, key=center_terms.get, reverse=True)\n",
    "    print(sorted_terms[:3])\n",
    "\n",
    "# the output will not be the same due to remove_noise"
   ]
  },
  {
   "cell_type": "code",
   "execution_count": 65,
   "metadata": {},
   "outputs": [
    {
     "name": "stdout",
     "output_type": "stream",
     "text": [
      "                scaled_heading_accuracy  scaled_volleys  scaled_finishing\n",
      "cluster_labels                                                           \n",
      "0                              3.208366        2.832726          2.764816\n",
      "1                              0.710196        0.639003          0.579890\n",
      "cluster_labels\n",
      "0    886\n",
      "1    114\n",
      "Name: ID, dtype: int64\n"
     ]
    },
    {
     "data": {
      "image/png": "[encoded data removed]",
      "text/plain": [
       "<Figure size 432x288 with 1 Axes>"
      ]
     },
     "metadata": {
      "needs_background": "light"
     },
     "output_type": "display_data"
    },
    {
     "name": "stdout",
     "output_type": "stream",
     "text": [
      "0 ['Cristiano Ronaldo' 'L. Messi' 'Neymar' 'L. Suárez' 'R. Lewandowski']\n",
      "1 ['M. Neuer' 'De Gea' 'T. Courtois' 'G. Buffon' 'J. Oblak']\n"
     ]
    }
   ],
   "source": [
    "### Clustering with multiple features\n",
    "\n",
    "# load data\n",
    "fifa = pd.read_csv('fifa_18_sample_data.csv')\n",
    "\n",
    "# normalize data \n",
    "fifa['scaled_heading_accuracy'] = whiten(fifa['heading_accuracy'])\n",
    "fifa['scaled_volleys']          = whiten(fifa['volleys'])\n",
    "fifa['scaled_finishing']        = whiten(fifa['finishing'])\n",
    "\n",
    "# Generate cluster centers\n",
    "cluster_centers, distortion = kmeans(fifa[['scaled_heading_accuracy',\n",
    "                                           'scaled_volleys', \n",
    "                                           'scaled_finishing' ]], 2)\n",
    "\n",
    "# Assign cluster labels\n",
    "fifa['cluster_labels'], distortion_list = vq(fifa[['scaled_heading_accuracy',\n",
    "                                                   'scaled_volleys', \n",
    "                                                   'scaled_finishing' ]],cluster_centers)\n",
    "\n",
    "# cluster centers\n",
    "print(fifa.groupby('cluster_labels')[['scaled_heading_accuracy',\n",
    "                                      'scaled_volleys', \n",
    "                                      'scaled_finishing' ]].mean())\n",
    "\n",
    "# cluster sizes\n",
    "print(fifa.groupby('cluster_labels')['ID'].count())\n",
    "\n",
    "# visualize clusters\n",
    "fifa.groupby('cluster_labels')[['scaled_heading_accuracy',\n",
    "                                'scaled_volleys', \n",
    "                                'scaled_finishing' ]].mean().plot(kind = 'bar')\n",
    "plt.show()\n",
    "\n",
    "# get the name colum of top 5 players in each cluster\n",
    "\n",
    "for cluster in fifa['cluster_labels'].unique():\n",
    "    print(cluster, \n",
    "          fifa[fifa['cluster_labels']==cluster]['name'].values[:5])\n",
    "    \n",
    "# feature reduction\n",
    "# factor analysis\n",
    "# multidimensional scalling"
   ]
  },
  {
   "cell_type": "markdown",
   "metadata": {},
   "source": [
    "###  Basic checks on clusters\n",
    "In the FIFA 18 dataset, we have concentrated on defenders in previous exercises. Let us try to focus on attacking attributes of a player. Pace (pac), Dribbling (dri) and Shooting (sho) are features that are present in attack minded players. In this exercise, k-means clustering has already been applied on the data using the scaled values of these three attributes. Try some basic checks on the clusters so formed.\n",
    "\n",
    "The data is stored in a Pandas data frame, fifa. The scaled column names are present in a list scaled_features. The cluster labels are stored in the cluster_labels column. Recall the .count() and .mean() methods in Pandas help you find the number of observations and mean of observations in a data frame."
   ]
  },
  {
   "cell_type": "code",
   "execution_count": 66,
   "metadata": {},
   "outputs": [
    {
     "name": "stdout",
     "output_type": "stream",
     "text": [
      "cluster_labels\n",
      "0    487\n",
      "1    181\n",
      "2    332\n",
      "Name: ID, dtype: int64\n",
      "cluster_labels\n",
      "0    75632.443532\n",
      "1    62193.370166\n",
      "2    64283.132530\n",
      "Name: eur_wage, dtype: float64\n"
     ]
    }
   ],
   "source": [
    "# normalize data \n",
    "fifa['scaled_pac'] = whiten(fifa['pac'])\n",
    "fifa['scaled_dri'] = whiten(fifa['dri'])\n",
    "fifa['scaled_sho'] = whiten(fifa['sho'])\n",
    "\n",
    "# Generate cluster centers\n",
    "cluster_centers, distortion = kmeans(fifa[['scaled_pac',\n",
    "                                           'scaled_dri', \n",
    "                                           'scaled_sho' ]], 3)\n",
    "\n",
    "# Assign cluster labels\n",
    "fifa['cluster_labels'], distortion_list = vq(fifa[['scaled_pac',\n",
    "                                                   'scaled_dri', \n",
    "                                                   'scaled_sho' ]],cluster_centers)\n",
    "\n",
    "\n",
    "# Print the size of the clusters\n",
    "print(fifa.groupby('cluster_labels')['ID'].count())\n",
    "# Print the mean value of wages in each cluster\n",
    "print(fifa.groupby('cluster_labels')['eur_wage'].mean())\n",
    "\n"
   ]
  },
  {
   "cell_type": "markdown",
   "metadata": {},
   "source": [
    "### FIFA 18: what makes a complete player?\n",
    "The overall level of a player in FIFA 18 is defined by six characteristics: pace (pac), shooting (sho), passing (pas), dribbling (dri), defending (def), physical (phy).\n",
    "\n",
    "In this exercise, you will use all six characteristics to create clusters. The data for this exercise is stored in a Pandas dataframe, fifa. features is the list of these column names and scaled_features is the list of columns which contains their scaled values. The following have been pre-loaded: kmeans, vq from scipy.cluster.vq, matplotlib.pyplot as plt, seaborn as sns.\n",
    "\n",
    "Before you start the exercise, you may wish to explore scaled_features in the console to check out the list of six scaled columns names."
   ]
  },
  {
   "cell_type": "code",
   "execution_count": 70,
   "metadata": {},
   "outputs": [
    {
     "name": "stdout",
     "output_type": "stream",
     "text": [
      "                scaled_pac  scaled_dri  scaled_sho  scaled_pas  scaled_def  \\\n",
      "cluster_labels                                                               \n",
      "0                 5.444516    6.759972    3.664623    7.165875    3.967897   \n",
      "1                 6.684385    8.513096    5.427481    8.455351    2.504167   \n",
      "\n",
      "                scaled_phy  \n",
      "cluster_labels              \n",
      "0                 9.210371  \n",
      "1                 8.336310  \n"
     ]
    },
    {
     "data": {
      "image/png": "[encoded data removed]",
      "text/plain": [
       "<Figure size 432x288 with 1 Axes>"
      ]
     },
     "metadata": {
      "needs_background": "light"
     },
     "output_type": "display_data"
    },
    {
     "name": "stdout",
     "output_type": "stream",
     "text": [
      "1 ['Cristiano Ronaldo' 'L. Messi' 'Neymar' 'L. Suárez' 'M. Neuer']\n",
      "0 ['Sergio Ramos' 'G. Chiellini' 'L. Bonucci' 'J. Boateng' 'D. Godín']\n"
     ]
    }
   ],
   "source": [
    "# normalize data\n",
    "fifa['scaled_pas'] = whiten(fifa['pas'])\n",
    "fifa['scaled_def'] = whiten(fifa['def'])\n",
    "fifa['scaled_phy'] = whiten(fifa['phy'])\n",
    "\n",
    "# scaled_features\n",
    "scaled_features = ['scaled_pac', 'scaled_dri','scaled_sho',\n",
    "                   'scaled_pas', 'scaled_def', 'scaled_phy'] \n",
    "# Generate cluster centers\n",
    "cluster_centers, distortion = kmeans(fifa[scaled_features], 2)\n",
    "\n",
    "# Assign cluster labels and print cluster centers\n",
    "fifa['cluster_labels'], _ = vq(fifa[scaled_features], cluster_centers)\n",
    "print(fifa.groupby('cluster_labels')[scaled_features].mean())\n",
    "\n",
    "# Plot cluster centers to visualize clusters\n",
    "fifa.groupby('cluster_labels')[scaled_features].mean().plot(legend=True, kind='bar')\n",
    "plt.show()\n",
    "\n",
    "# Get the name column of first 5 players in each cluster\n",
    "for cluster in fifa['cluster_labels'].unique():\n",
    "    print(cluster, fifa[fifa['cluster_labels'] == cluster]['name'].values[:5])"
   ]
  }
 ],
 "metadata": {
  "kernelspec": {
   "display_name": "Python 3",
   "language": "python",
   "name": "python3"
  },
  "language_info": {
   "codemirror_mode": {
    "name": "ipython",
    "version": 3
   },
   "file_extension": ".py",
   "mimetype": "text/x-python",
   "name": "python",
   "nbconvert_exporter": "python",
   "pygments_lexer": "ipython3",
   "version": "3.8.3"
  }
 },
 "nbformat": 4,
 "nbformat_minor": 4
}
