{
 "cells": [
  {
   "cell_type": "markdown",
   "metadata": {},
   "source": [
    "## Functions and Packages\n",
    "\n",
    "You'll learn how to use functions, methods, and packages to efficiently leverage the code that brilliant Python developers have written. The goal is to reduce the amount of code you need to solve challenging problems!"
   ]
  },
  {
   "cell_type": "markdown",
   "metadata": {},
   "source": [
    "### Familiar functions\n",
    "Out of the box, Python offers a bunch of built-in functions to make your life as a data scientist easier. You already know two such functions: print() and type(). You've also used the functions str(), int(), bool() and float() to switch between data types. These are built-in functions as well.\n",
    "\n",
    "Calling a function is easy. To get the type of 3.0 and store the output as a new variable, result, you can use the following:\n",
    "\n",
    "result = type(3.0)\n",
    "\n",
    "The general recipe for calling functions and saving the result to a variable is thus:\n",
    "\n",
    "output = function_name(input)"
   ]
  },
  {
   "cell_type": "code",
   "execution_count": 1,
   "metadata": {},
   "outputs": [
    {
     "name": "stdout",
     "output_type": "stream",
     "text": [
      "<class 'list'>\n",
      "4\n"
     ]
    }
   ],
   "source": [
    "# Create variables var1 and var2\n",
    "var1 = [1, 2, 3, 4]\n",
    "var2 = True\n",
    "\n",
    "# Print out type of var1\n",
    "print(type(var1))\n",
    "\n",
    "# Print out length of var1\n",
    "print(len(var1))\n",
    "# Convert var2 to an integer: out2\n",
    "out2 = int(var2)"
   ]
  },
  {
   "cell_type": "markdown",
   "metadata": {},
   "source": [
    "### Multiple arguments\n",
    "In the previous exercise, the square brackets around imag in the documentation showed us that the imag argument is optional. But Python also uses a different way to tell users about arguments being optional.\n",
    "\n",
    "Have a look at the documentation of sorted() by typing help(sorted) in the IPython Shell.\n",
    "\n",
    "You'll see that sorted() takes three arguments: iterable, key and reverse.\n",
    "\n",
    "key=None means that if you don't specify the key argument, it will be None. reverse=False means that if you don't specify the reverse argument, it will be False.\n",
    "\n",
    "In this exercise, you'll only have to specify iterable and reverse, not key. The first input you pass to sorted() will be matched to the iterable argument, but what about the second input? To tell Python you want to specify reverse without changing anything about key, you can use =:\n",
    "\n",
    "sorted(___, reverse = ___)\n",
    "\n",
    "Two lists have been created for you in the editor. Can you paste them together and sort them in descending order?\n"
   ]
  },
  {
   "cell_type": "code",
   "execution_count": 2,
   "metadata": {},
   "outputs": [
    {
     "name": "stdout",
     "output_type": "stream",
     "text": [
      "[20.0, 18.0, 11.25, 10.75, 9.5]\n"
     ]
    }
   ],
   "source": [
    "# Create lists first and second\n",
    "first = [11.25, 18.0, 20.0]\n",
    "second = [10.75, 9.50]\n",
    "\n",
    "# Paste together first and second: full\n",
    "full = first + second\n",
    "\n",
    "# Sort full in descending order: full_sorted\n",
    "\n",
    "full_sorted = sorted(full, reverse = True)\n",
    "\n",
    "# Print out full_sorted\n",
    "print(full_sorted)"
   ]
  },
  {
   "cell_type": "markdown",
   "metadata": {},
   "source": [
    "### String Methods\n",
    "Strings come with a bunch of methods. Follow the instructions closely to discover some of them. If you want to discover them in more detail, you can always type help(str) in the IPython Shell.\n",
    "\n",
    "A string place has already been created for you to experiment with."
   ]
  },
  {
   "cell_type": "code",
   "execution_count": 3,
   "metadata": {},
   "outputs": [
    {
     "name": "stdout",
     "output_type": "stream",
     "text": [
      "poolhouse\n",
      "POOLHOUSE\n",
      "3\n"
     ]
    }
   ],
   "source": [
    "# string to experiment with: place\n",
    "place = \"poolhouse\"\n",
    "\n",
    "# Use upper() on place: place_up\n",
    "\n",
    "place_up = place.upper()\n",
    "# Print out place and place_up\n",
    "print(place)\n",
    "print(place_up)\n",
    "\n",
    "# Print out the number of o's in place\n",
    "print(place.count('o'))"
   ]
  },
  {
   "cell_type": "markdown",
   "metadata": {},
   "source": [
    "### List Methods\n",
    "Strings are not the only Python types that have methods associated with them. Lists, floats, integers and booleans are also types that come packaged with a bunch of useful methods. In this exercise, you'll be experimenting with:\n",
    "\n",
    "1. index(), to get the index of the first element of a list that matches its input and\n",
    "2. count(), to get the number of times an element appears in a list.\n",
    "\n",
    "You'll be working on the list with the area of different parts of a house: areas."
   ]
  },
  {
   "cell_type": "code",
   "execution_count": 4,
   "metadata": {},
   "outputs": [
    {
     "name": "stdout",
     "output_type": "stream",
     "text": [
      "2\n",
      "1\n"
     ]
    }
   ],
   "source": [
    "# Create list areas\n",
    "areas = [11.25, 18.0, 20.0, 10.75, 9.50]\n",
    "\n",
    "# Print out the index of the element 20.0\n",
    "print(areas.index(20))\n",
    "\n",
    "# Print out how often 9.50 appears in areas\n",
    "print(areas.count(9.5))"
   ]
  },
  {
   "cell_type": "markdown",
   "metadata": {},
   "source": [
    "### List Methods (2)\n",
    "\n",
    "Most list methods will change the list they're called on. Examples are:\n",
    "\n",
    "1. append(), that adds an element to the list it is called on,\n",
    "2. remove(), that removes the first element of a list that matches the input, and\n",
    "3. reverse(), that reverses the order of the elements in the list it is called on.\n",
    "\n",
    "You'll be working on the list with the area of different parts of the house: areas."
   ]
  },
  {
   "cell_type": "code",
   "execution_count": 6,
   "metadata": {},
   "outputs": [
    {
     "name": "stdout",
     "output_type": "stream",
     "text": [
      "[11.25, 18.0, 20.0, 10.75, 9.5, 24.5, 15.45]\n",
      "[15.45, 24.5, 9.5, 10.75, 20.0, 18.0, 11.25]\n"
     ]
    }
   ],
   "source": [
    "# Create list areas\n",
    "areas = [11.25, 18.0, 20.0, 10.75, 9.50]\n",
    "\n",
    "# Use append twice to add poolhouse and garage size\n",
    "areas.append(24.5)\n",
    "areas.append(15.45)\n",
    "# Print out areas\n",
    "print(areas)\n",
    "# Reverse the orders of the elements in areas\n",
    "areas.reverse()\n",
    "# Print out areas\n",
    "print(areas)"
   ]
  },
  {
   "cell_type": "markdown",
   "metadata": {},
   "source": [
    "### Import package\n",
    "As a data scientist, some notions of geometry never hurt. Let's refresh some of the basics.\n",
    "\n",
    "For a fancy clustering algorithm, you want to find the circumference, C, and area,A, of a circle. When the radius of the circle is r, you can calculate C and A as:\n",
    "\n",
    "C = 2*pi*r\n",
    "\n",
    "A = pi*r^2\n",
    "\n",
    "To use the constant pi, you'll need the math package. A variable r is already coded in the script. Fill in the code to calculate C and A and see how the print() functions create some nice printouts."
   ]
  },
  {
   "cell_type": "code",
   "execution_count": 7,
   "metadata": {},
   "outputs": [
    {
     "name": "stdout",
     "output_type": "stream",
     "text": [
      "Circumference: 2.701769682087222\n",
      "Area: 0.5808804816487527\n"
     ]
    }
   ],
   "source": [
    "# Definition of radius\n",
    "r = 0.43\n",
    "\n",
    "# Import the math package\n",
    "import math\n",
    "\n",
    "# Calculate C\n",
    "C = 2*math.pi*r\n",
    "\n",
    "# Calculate A\n",
    "A = math.pi * r**2\n",
    "\n",
    "# Build printout\n",
    "print(\"Circumference: \" + str(C))\n",
    "print(\"Area: \" + str(A))"
   ]
  },
  {
   "cell_type": "markdown",
   "metadata": {},
   "source": [
    "### Selective import\n",
    "General imports, like import math, make all functionality from the math package available to you. However, if you decide to only use a specific part of a package, you can always make your import more selective:\n",
    "\n",
    "from math import pi\n",
    "\n",
    "Let's say the Moon's orbit around planet Earth is a perfect circle, with a radius r (in km) that is defined in the script."
   ]
  },
  {
   "cell_type": "code",
   "execution_count": 8,
   "metadata": {},
   "outputs": [
    {
     "name": "stdout",
     "output_type": "stream",
     "text": [
      "40317.10572106901\n"
     ]
    }
   ],
   "source": [
    "# Definition of radius\n",
    "r = 192500\n",
    "\n",
    "# Import radians function of math package\n",
    "from math import radians \n",
    "\n",
    "# Travel distance of Moon over 12 degrees. Store in dist.\n",
    "dist = radians(12)*r\n",
    "\n",
    "# Print out dist\n",
    "print(dist)"
   ]
  },
  {
   "cell_type": "code",
   "execution_count": null,
   "metadata": {},
   "outputs": [],
   "source": []
  }
 ],
 "metadata": {
  "kernelspec": {
   "display_name": "Python 3",
   "language": "python",
   "name": "python3"
  },
  "language_info": {
   "codemirror_mode": {
    "name": "ipython",
    "version": 3
   },
   "file_extension": ".py",
   "mimetype": "text/x-python",
   "name": "python",
   "nbconvert_exporter": "python",
   "pygments_lexer": "ipython3",
   "version": "3.8.3"
  }
 },
 "nbformat": 4,
 "nbformat_minor": 4
}
