{
 "cells": [
  {
   "cell_type": "markdown",
   "metadata": {},
   "source": [
    "## Gaining efficiencies\n",
    "\n",
    "This chapter covers more complex efficiency tips and tricks. You'll learn a few useful built-in modules for writing efficient code and practice using set theory. You'll then learn about looping patterns in Python and how to make them more efficient."
   ]
  },
  {
   "cell_type": "markdown",
   "metadata": {},
   "source": [
    "### Comparing Pokédexes\n",
    "Two Pokémon trainers, Ash and Misty, would like to compare their individual collections of Pokémon. Let's see what Pokémon they have in common and what Pokémon Ash has that Misty does not.\n",
    "\n",
    "Both Ash and Misty's Pokédex (their collection of Pokémon) have been loaded into your session as lists called ash_pokedex and misty_pokedex. They have been printed into the console for your convenience."
   ]
  },
  {
   "cell_type": "code",
   "execution_count": 1,
   "metadata": {},
   "outputs": [
    {
     "name": "stdout",
     "output_type": "stream",
     "text": [
      "{'Squirtle', 'Psyduck'}\n",
      "{'Wigglytuff', 'Rattata', 'Spearow', 'Vulpix', 'Koffing', 'Zubat', 'Bulbasaur', 'Pikachu'}\n",
      "{'Wigglytuff', 'Rattata', 'Slowbro', 'Horsea', 'Krabby', 'Spearow', 'Poliwag', 'Vulpix', 'Tentacool', 'Koffing', 'Vaporeon', 'Zubat', 'Bulbasaur', 'Magikarp', 'Starmie', 'Pikachu'}\n"
     ]
    }
   ],
   "source": [
    "ash_pokedex = ['Pikachu', 'Bulbasaur', 'Koffing','Spearow','Vulpix','Wigglytuff','Zubat','Rattata','Psyduck','Squirtle']\n",
    "misty_pokedex = ['Krabby', 'Horsea', 'Slowbro', 'Tentacool', 'Vaporeon', 'Magikarp','Poliwag','Starmie','Psyduck','Squirtle']\n",
    "\n",
    "# Convert both lists to sets\n",
    "ash_set = set(ash_pokedex)\n",
    "misty_set = set(misty_pokedex)\n",
    "\n",
    "# Find the Pokémon that exist in both sets\n",
    "both = ash_set.intersection(misty_set)\n",
    "print(both)\n",
    "\n",
    "# Find the Pokémon that Ash has and Misty does not have\n",
    "ash_only = ash_set.difference(misty_set)\n",
    "print(ash_only)\n",
    "\n",
    "# Find the Pokémon that are in only one set (not both)\n",
    "unique_to_set = ash_set.symmetric_difference(misty_set)\n",
    "print(unique_to_set)"
   ]
  },
  {
   "cell_type": "markdown",
   "metadata": {},
   "source": [
    "### Searching for Pokémon\n",
    "Two Pokémon trainers, Ash and Brock, have a collection of ten Pokémon each. Each trainer's Pokédex (their collection of Pokémon) has been loaded into your session as lists called ash_pokedex and brock_pokedex respectively.\n",
    "\n",
    "You'd like to see if certain Pokémon are members of either Ash or Brock's Pokédex.\n",
    "\n",
    "Let's compare using a set versus using a list when performing this membership testing."
   ]
  },
  {
   "cell_type": "code",
   "execution_count": 2,
   "metadata": {},
   "outputs": [
    {
     "name": "stdout",
     "output_type": "stream",
     "text": [
      "{'Kabutops', 'Machop', 'Vulpix', 'Omastar', 'Zubat', 'Golem', 'Onix', 'Tauros', 'Geodude', 'Dugtrio'}\n",
      "True\n",
      "False\n",
      "False\n",
      "True\n"
     ]
    }
   ],
   "source": [
    "brock_pokedex = ['Onix', 'Geodude','Zubat','Golem','Vulpix','Tauros','Kabutops','Omastar','Machop','Dugtrio']\n",
    "\n",
    "# Convert Brock's Pokédex to a set\n",
    "brock_pokedex_set = set(brock_pokedex)\n",
    "print(brock_pokedex_set)\n",
    "\n",
    "# Check if Psyduck is in Ash's list and Brock's set\n",
    "print('Psyduck' in ash_pokedex)\n",
    "print('Psyduck' in brock_pokedex_set)\n",
    "\n",
    "# Check if Machop is in Ash's list and Brock's set\n",
    "print('Machop' in ash_pokedex)\n",
    "print('Machop' in brock_pokedex_set)"
   ]
  }
 ],
 "metadata": {
  "kernelspec": {
   "display_name": "Python 3",
   "language": "python",
   "name": "python3"
  },
  "language_info": {
   "codemirror_mode": {
    "name": "ipython",
    "version": 3
   },
   "file_extension": ".py",
   "mimetype": "text/x-python",
   "name": "python",
   "nbconvert_exporter": "python",
   "pygments_lexer": "ipython3",
   "version": "3.8.5"
  }
 },
 "nbformat": 4,
 "nbformat_minor": 4
}
