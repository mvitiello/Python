{
 "cells": [
  {
   "cell_type": "markdown",
   "metadata": {},
   "source": [
    "## Working with Dask DataFrames\n",
    "\n",
    "The Dask DataFrame is built upon the Pandas DataFrame. Dask provides the ability to scale your Pandas workflows to large data sets stored in either a single file or separated across multiple files. In this chapter you'll learn how to build a pipeline of delayed computation with Dask DataFrame, and you'll use these skills to study how much NYC taxi riders tip their drivers."
   ]
  },
  {
   "cell_type": "markdown",
   "metadata": {},
   "source": [
    "### Building a pipeline of delayed tasks\n",
    "For this exercise, you'll use a Dask DataFrame to read and process the World Bank's World Development Indicators.\n",
    "\n",
    "Your job is to filter the DataFrame for the 'East Asia & Pacific' region and measurements of the percent population exposed to toxic air pollution. The output of this effort is a delayed Dask DataFrame; you'll compute the result in the next exercise."
   ]
  },
  {
   "cell_type": "code",
   "execution_count": 8,
   "metadata": {},
   "outputs": [
    {
     "name": "stdout",
     "output_type": "stream",
     "text": [
      "      Country Name Country Code                      Indicator Name  \\\n",
      "0   American Samoa          ASM  Agricultural land (% of land area)   \n",
      "21  American Samoa          ASM  Agricultural land (% of land area)   \n",
      "42  American Samoa          ASM  Agricultural land (% of land area)   \n",
      "63  American Samoa          ASM  Agricultural land (% of land area)   \n",
      "84  American Samoa          ASM  Agricultural land (% of land area)   \n",
      "\n",
      "    Indicator Code  Year  value               Region  \n",
      "0   AG.LND.AGRI.ZS  1980   15.0  East Asia & Pacific  \n",
      "21  AG.LND.AGRI.ZS  1981   15.0  East Asia & Pacific  \n",
      "42  AG.LND.AGRI.ZS  1982   15.0  East Asia & Pacific  \n",
      "63  AG.LND.AGRI.ZS  1983   15.0  East Asia & Pacific  \n",
      "84  AG.LND.AGRI.ZS  1984   15.0  East Asia & Pacific  \n"
     ]
    }
   ],
   "source": [
    "# read csv\n",
    "import pandas as pd\n",
    "\n",
    "df = pd.read_csv('WDI.csv')\n",
    "\n",
    "# Boolean series where 'Indicator Code' is 'AG.LND.AGRI.ZS': toxins\n",
    "toxins = df['Indicator Code'] == 'AG.LND.AGRI.ZS'\n",
    "# Boolean series where 'Region' is 'East Asia & Pacific': region\n",
    "region = df['Region'] == 'East Asia & Pacific'\n",
    "\n",
    "# Filter the DataFrame using toxins & region: filtered\n",
    "filtered = df[toxins & region]\n",
    "\n",
    "print(filtered.head())"
   ]
  },
  {
   "cell_type": "markdown",
   "metadata": {},
   "source": [
    "### Preparing the pipeline\n",
    "Since pandas and Dask share the same API, we can write functions that work for both libraries. Your job here is to write a function that takes a DataFrame as input, performs Boolean filtering, groupby, and returns the result.\n",
    "\n",
    "In the next exercise you'll apply this function on Dask and pandas DataFrames and compare the time it takes to complete."
   ]
  },
  {
   "cell_type": "code",
   "execution_count": 11,
   "metadata": {},
   "outputs": [],
   "source": [
    "# Define a function with df as input: by_region\n",
    "def by_region(df):\n",
    "\n",
    "    # Create the toxins array\n",
    "    toxins = df['Indicator Code'] == 'AG.LND.AGRI.ZS'\n",
    "\n",
    "    # Create the y2015 array\n",
    "    y2015 = df['Year'] == 2015\n",
    "\n",
    "    # Filter the DataFrame and group by the 'Region' column\n",
    "    regions = df[toxins & y2015].groupby('Region')\n",
    "\n",
    "    # Return the mean of the 'value' column of regions\n",
    "    return regions['value'].mean()"
   ]
  },
  {
   "cell_type": "markdown",
   "metadata": {},
   "source": [
    "### Comparing Dask & pandas execution times\n",
    "The function you created in the last exercise can be used with either Dask or Pandas DataFrames. The only difference is that after the function is run on a Dask DataFrame, .compute() must be called on the result to perform the computation.\n",
    "\n",
    "Your job is to run the by_region function separately on a Pandas DataFrame and a Dask DataFrame read from the same CSV file. To help understand how much time is taken when reading the file you'll compare the execution of the function with the Dask DataFrame to the Pandas DataFrame where the time taken to call pd.read_csv is included or ignored."
   ]
  },
  {
   "cell_type": "code",
   "execution_count": 13,
   "metadata": {},
   "outputs": [
    {
     "name": "stdout",
     "output_type": "stream",
     "text": [
      "94.91682052612305\n"
     ]
    }
   ],
   "source": [
    "import time\n",
    "\n",
    "# Call time.time()\n",
    "t0 = time.time()\n",
    "\n",
    "# Read 'WDI.csv' into df\n",
    "df = pd.read_csv('WDI.csv')\n",
    "\n",
    "# Group df by region: result\n",
    "result = by_region(df)\n",
    "\n",
    "# Call time.time()\n",
    "t1 = time.time()\n",
    "\n",
    "# Print the execution time\n",
    "print((t1-t0)*1000)"
   ]
  },
  {
   "cell_type": "code",
   "execution_count": 14,
   "metadata": {},
   "outputs": [
    {
     "name": "stdout",
     "output_type": "stream",
     "text": [
      "5.79071044921875\n"
     ]
    }
   ],
   "source": [
    "# Time the execution of just by_region with Pandas and print in milliseconds\n",
    "df = pd.read_csv('WDI.csv')\n",
    "t0 = time.time()\n",
    "result = by_region(df)\n",
    "t1 = time.time()\n",
    "print((t1-t0)*1000)"
   ]
  },
  {
   "cell_type": "code",
   "execution_count": 17,
   "metadata": {},
   "outputs": [
    {
     "name": "stdout",
     "output_type": "stream",
     "text": [
      "19.519805908203125\n"
     ]
    }
   ],
   "source": [
    "import dask.dataframe as dd\n",
    "# Time the execution of dd.read_csv and by_region together with 'WDI.csv' and print in milliseconds\n",
    "t0 = time.time()\n",
    "df = dd.read_csv('WDI.csv')\n",
    "result = by_region(df)\n",
    "t1 = time.time()\n",
    "print((t1-t0)*1000)"
   ]
  },
  {
   "cell_type": "markdown",
   "metadata": {},
   "source": [
    "### Reading & cleaning files\n",
    "Here you'll be working with a subset of the NYC Taxi Trip data. The first step is to use the Dask dd.read_csv() function to read multiple files at once. Dask will automatically concatenate the contents of the files into a single DataFrame. Notice that you'll use the option assume_missing=True in the call to dd.read_csv() to suppress warning messages.\n",
    "\n",
    "Your job is to use a glob pattern containing the * character to read all of the CSV files from the taxi/ subdirectory into a single Dask DataFrame. You'll then construct a new column called 'tip_fraction' using the 'tip_amount' and 'total_amount' columns. The 'total_amount' is the sum of the fare, other fees, and the tip_amount."
   ]
  },
  {
   "cell_type": "code",
   "execution_count": 19,
   "metadata": {},
   "outputs": [
    {
     "name": "stdout",
     "output_type": "stream",
     "text": [
      "   VendorID tpep_pickup_datetime tpep_dropoff_datetime  passenger_count  \\\n",
      "0       1.0  2015-01-13 00:04:10   2015-01-13 00:16:13              2.0   \n",
      "1       1.0  2015-01-18 00:42:09   2015-01-18 00:57:40              1.0   \n",
      "2       1.0  2015-01-07 00:41:31   2015-01-07 00:43:42              1.0   \n",
      "3       2.0  2015-01-11 00:31:11   2015-01-11 00:35:55              1.0   \n",
      "4       2.0  2015-01-03 00:25:40   2015-01-03 00:37:06              1.0   \n",
      "\n",
      "   trip_distance  pickup_longitude  pickup_latitude  RateCodeID  \\\n",
      "0           2.00        -74.004425        40.742073         1.0   \n",
      "1           4.00        -73.956512        40.771217         1.0   \n",
      "2           0.70        -73.978523        40.744961         1.0   \n",
      "3           0.86        -74.002487        40.719906         1.0   \n",
      "4           2.67        -74.001114        40.731564         1.0   \n",
      "\n",
      "  store_and_fwd_flag  dropoff_longitude  ...  payment_type  fare_amount  \\\n",
      "0                  N         -73.997551  ...           2.0         10.0   \n",
      "1                  N         -73.995590  ...           1.0         14.5   \n",
      "2                  N         -73.971298  ...           2.0          4.5   \n",
      "3                  N         -73.991158  ...           2.0          5.5   \n",
      "4                  N         -73.973541  ...           2.0         11.0   \n",
      "\n",
      "   extra  mta_tax  tip_amount  tolls_amount  improvement_surcharge  \\\n",
      "0    0.5      0.5         0.0           0.0                    0.3   \n",
      "1    0.5      0.5         1.0           0.0                    0.3   \n",
      "2    0.5      0.5         0.0           0.0                    0.3   \n",
      "3    0.5      0.5         0.0           0.0                    0.3   \n",
      "4    0.5      0.5         0.0           0.0                    0.3   \n",
      "\n",
      "   total_amount  tip_fraction  hour  \n",
      "0          11.3      0.000000     0  \n",
      "1          16.8      0.063291     0  \n",
      "2           5.8      0.000000     0  \n",
      "3           6.8      0.000000     0  \n",
      "4          12.3      0.000000     0  \n",
      "\n",
      "[5 rows x 21 columns]\n"
     ]
    }
   ],
   "source": [
    "# Read all .csv files: df\n",
    "df = dd.read_csv('taxi/*.csv', assume_missing=True)\n",
    "\n",
    "# Make column 'tip_fraction'\n",
    "df['tip_fraction'] = df['tip_amount'] / (df['total_amount'] - df['tip_amount'])\n",
    "\n",
    "# Convert 'tpep_dropoff_datetime' column to datetime objects\n",
    "df['tpep_dropoff_datetime'] = dd.to_datetime(df['tpep_dropoff_datetime'])\n",
    "\n",
    "# Construct column 'hour'\n",
    "df['hour'] = df['tpep_dropoff_datetime'].dt.hour\n",
    "\n",
    "print(df.head())"
   ]
  },
  {
   "cell_type": "markdown",
   "metadata": {},
   "source": [
    "### Filtering & grouping data\n",
    "You have the Dask dataframe df prepared using multiple CSV files from the last exercise. It contains a subset of the 2015 yellow taxi ride data from New York City with some additional columns from preprocessing. Remember, none of the files have actually been loaded, nor has any computation been done to construct the new columns.\n",
    "\n",
    "Your task now is to build a pipeline of computations to compute the hourly average tip fraction for each hour of the day across the entire year of data. You'll have to filter for payments of type 1 (credit card transactions) from the 'payment_type' column, group transactions using the 'hour' column, and finally aggregate the mean from the 'tip_fraction' column."
   ]
  },
  {
   "cell_type": "code",
   "execution_count": 21,
   "metadata": {},
   "outputs": [
    {
     "name": "stdout",
     "output_type": "stream",
     "text": [
      "hour\n",
      "0    0.197973\n",
      "1    0.181177\n",
      "2    0.180961\n",
      "3    0.187193\n",
      "4    0.180647\n",
      "Name: tip_fraction, dtype: float64\n"
     ]
    }
   ],
   "source": [
    "# Filter rows where payment_type == 1: credit\n",
    "credit = df.loc[df['payment_type']==1]\n",
    "\n",
    "# Group by 'hour' column: hourly\n",
    "hourly = credit.groupby('hour')\n",
    "\n",
    "# Aggregate mean 'tip_fraction' and print its data type\n",
    "result = hourly['tip_fraction'].mean()\n",
    "print(result.head())"
   ]
  },
  {
   "cell_type": "markdown",
   "metadata": {},
   "source": [
    "### Computing & plotting\n",
    "Now that you've got the entire delayed pipeline prepared it's time compute and plot the result."
   ]
  },
  {
   "cell_type": "code",
   "execution_count": 22,
   "metadata": {},
   "outputs": [
    {
     "name": "stdout",
     "output_type": "stream",
     "text": [
      "<class 'pandas.core.series.Series'>\n"
     ]
    },
    {
     "data": {
      "text/plain": [
       "<matplotlib.axes._subplots.AxesSubplot at 0x295022de0d0>"
      ]
     },
     "execution_count": 22,
     "metadata": {},
     "output_type": "execute_result"
    },
    {
     "data": {
      "image/png": "[encoded data removed]",
      "text/plain": [
       "<Figure size 432x288 with 1 Axes>"
      ]
     },
     "metadata": {
      "needs_background": "light"
     },
     "output_type": "display_data"
    }
   ],
   "source": [
    "# Perform the computation\n",
    "tip_frac = result.compute()\n",
    "\n",
    "# Print the type of tip_frac\n",
    "print(type(tip_frac))\n",
    "\n",
    "# Generate a line plot using .plot.line()\n",
    "tip_frac.plot.line()"
   ]
  },
  {
   "cell_type": "code",
   "execution_count": null,
   "metadata": {},
   "outputs": [],
   "source": []
  },
  {
   "cell_type": "code",
   "execution_count": null,
   "metadata": {},
   "outputs": [],
   "source": []
  }
 ],
 "metadata": {
  "kernelspec": {
   "display_name": "Python 3",
   "language": "python",
   "name": "python3"
  },
  "language_info": {
   "codemirror_mode": {
    "name": "ipython",
    "version": 3
   },
   "file_extension": ".py",
   "mimetype": "text/x-python",
   "name": "python",
   "nbconvert_exporter": "python",
   "pygments_lexer": "ipython3",
   "version": "3.8.3"
  }
 },
 "nbformat": 4,
 "nbformat_minor": 4
}
