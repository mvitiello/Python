{
 "cells": [
  {
   "cell_type": "markdown",
   "metadata": {},
   "source": [
    "# Parallel Programming with Dask in Python\n",
    "\n",
    "Python is now well established as a major platform for data analysis and data science. For many data scientists, the largest limitation of Python is that all data must fit into the resident memory of the available workstation. Further, traditionally, Python has only been able to utilize one CPU. Data scientists constantly ask, \"How can I read and process large amounts of data?\" and \"How can I make use of more computational processing resources?\" This course will introduce you to Dask, a flexible parallel computing library for analytic computing. With Dask, you will be able to take the Python workflows you currently have and easily scale them up to large datasets on your workstation without the need to migrate to a distributed computing environment."
   ]
  },
  {
   "cell_type": "markdown",
   "metadata": {},
   "source": [
    "## Working with Big Data\n",
    "\n",
    "In this chapter you'll learn how to leverage traditional Python techniques for reading and processing large datasets stored in either a single file or in multiple files. Finally, you'll learn how the Dask library can be used to execute a pipeline of Python functions in parallel with the added goal of being able to process large amounts of data on modest computational resources. For this course, the data set sizes have been reduced so that the exercises can be completed rapidly. Many of these data sets were originally several Gigabytes in size."
   ]
  },
  {
   "cell_type": "markdown",
   "metadata": {},
   "source": [
    "### NumPy transformations\n",
    "Many NumPy transformations, while fast, use one or more temporary arrays. Therefore, those transformations require more storage than the original array required.\n",
    "\n",
    "An array of temperature values in Celsius is provided for you as celsius. Your job is to monitor memory consumption while applying NumPy vectorized operations. The data comes from The Weather Underground."
   ]
  },
  {
   "cell_type": "code",
   "execution_count": 4,
   "metadata": {},
   "outputs": [
    {
     "name": "stdout",
     "output_type": "stream",
     "text": [
      "0    43\n",
      "1    41\n",
      "2    44\n",
      "3    39\n",
      "4    35\n",
      "Name: Mean TemperatureF, dtype: int64\n",
      "0.0027923583984375\n",
      "0.23828125\n",
      "0.23828125\n"
     ]
    }
   ],
   "source": [
    "# Define memory_footprint\n",
    "import psutil, os\n",
    "def memory_footprint():\n",
    "    '''Returns memory (in MB) being used by Python process'''\n",
    "    mem = psutil.Process(os.getpid()).memory_info().rss\n",
    "    return (mem / 1024 ** 2)\n",
    "\n",
    "# read csv\n",
    "import pandas as pd\n",
    "\n",
    "data = pd.read_csv('ATL.csv')\n",
    "\n",
    "celsius = data['Mean TemperatureF']\n",
    "\n",
    "print(celsius.head())\n",
    "\n",
    "# Print the size in MB of the celsius array\n",
    "print(celsius.nbytes/1024**2)\n",
    "\n",
    "# Call memory_footprint(): before\n",
    "before = memory_footprint()\n",
    "\n",
    "# Convert celsius by multiplying by 9/5 and adding 32: fahrenheit\n",
    "fahrenheit = celsius *9/5 + 32\n",
    "\n",
    "# Call memory_footprint(): after\n",
    "after = memory_footprint()\n",
    "\n",
    "# Print the difference between after and before\n",
    "print(after - before)\n",
    "print(after - before)"
   ]
  },
  {
   "cell_type": "markdown",
   "metadata": {},
   "source": [
    "### Filtering WDI data in chunks\n",
    "Using the World Bank's World Development Indicators (or WDI) dataset, you're going to plot the percentage of the population of Australia in urban centers since 1980.\n",
    "\n",
    "Your job is to loop over chunks of the WDI dataset; from each chunk, you will filter out rows describing Australia's \"percent urban population.\" You'll then concatenate the filtered chunks and plot the results."
   ]
  },
  {
   "cell_type": "code",
   "execution_count": 8,
   "metadata": {},
   "outputs": [],
   "source": [
    "# Create empty list: dfs\n",
    "dfs = []\n",
    "\n",
    "# Loop over 'WDI.csv'\n",
    "for chunk in pd.read_csv('WDI.csv', chunksize= 1000):\n",
    "    # Create the first Series\n",
    "    is_urban = chunk['Indicator Name']=='Urban population (% of total)'\n",
    "    # Create the second Series\n",
    "    is_AUS = chunk['Country Code']=='AUS'\n",
    "\n",
    "    # Create the filtered chunk: filtered\n",
    "    filtered = chunk.loc[is_urban & is_AUS]\n",
    "\n",
    "    # Append the filtered chunk to the list dfs\n",
    "    dfs.append(filtered)"
   ]
  },
  {
   "cell_type": "markdown",
   "metadata": {},
   "source": [
    "### Concatenating & plotting WDI data\n",
    "In the previous exercise, you read a large CSV file by chunks, performed boolean filtering on each chunk, and stored each filtered chunk in a list. Before filtering, each chunk contained up to 1000 rows. However, after filtering, some of the filtered chunks had no rows. You'll now use len() to determine the number of chunks and the actual number of rows that the filter retains.\n",
    "\n",
    "Your job is to use pd.concat() to make a single DataFrame from the list dfs; this list is provided for you. The function pd.concat() will take the list of DataFrames and concatenate them into a new DataFrame object. Finally, you will plot the results. The modules matplotlib.pyplot and pandas have been imported for you with standard aliases (plt and pd respectively)."
   ]
  },
  {
   "cell_type": "code",
   "execution_count": 14,
   "metadata": {},
   "outputs": [
    {
     "name": "stdout",
     "output_type": "stream",
     "text": [
      "92\n",
      "36\n"
     ]
    },
    {
     "data": {
      "text/plain": [
       "<matplotlib.axes._subplots.AxesSubplot at 0x1b0f97031c0>"
      ]
     },
     "execution_count": 14,
     "metadata": {},
     "output_type": "execute_result"
    },
    {
     "data": {
      "image/png": "[encoded data removed]",
      "text/plain": [
       "<Figure size 432x288 with 1 Axes>"
      ]
     },
     "metadata": {
      "needs_background": "light"
     },
     "output_type": "display_data"
    }
   ],
   "source": [
    "# Print length of list dfs\n",
    "print(len(dfs))\n",
    "\n",
    "# Apply pd.concat to dfs: df\n",
    "df = pd.concat(dfs)\n",
    "\n",
    "# Print length of DataFrame df\n",
    "print(len(df))\n",
    "\n",
    "# Call df.plot.line with x='Year' and y='value'\n",
    "df.plot.line(x='Year', y='value')\n"
   ]
  },
  {
   "cell_type": "markdown",
   "metadata": {},
   "source": [
    "### Computing percentage of delayed flights\n",
    "Multiple CSV files of flight information have been provided from the Bureau of Transportation Statistics. Each file contains one month of information in 2016.\n",
    "\n",
    "Your first job is to build a function to compute the percentage of delayed flights given a DataFrame of flight information. Your function will take a single DataFrame as input and compute the percentage of its rows in which the 'DEP_DELAY' value is greater than zero."
   ]
  },
  {
   "cell_type": "code",
   "execution_count": 15,
   "metadata": {},
   "outputs": [],
   "source": [
    "# Define function with single input called df: pct_delayed\n",
    "def pct_delayed(df):\n",
    "    # Compute number of delayed flights: n_delayed\n",
    "    n_delayed = (df['DEP_DELAY']>0).sum()\n",
    "    # Return percentage of delayed flights\n",
    "    return n_delayed  * 100 / len(df)"
   ]
  },
  {
   "cell_type": "markdown",
   "metadata": {},
   "source": [
    "### Generating & plotting delayed flights\n",
    "Now that you have a function to compute flight delays, you'll apply it with a generator to analyze the percentage of delayed flights for each month of 2016.\n",
    "\n",
    "You'll create a generator expression to loop over the provided list filenames and return a sequence of DataFrames. For each DataFrame, you'll then apply the function pct_delayed() (provided for you) within a list comprehension."
   ]
  },
  {
   "cell_type": "code",
   "execution_count": 24,
   "metadata": {},
   "outputs": [
    {
     "name": "stdout",
     "output_type": "stream",
     "text": [
      "[33.452587898839234, 30.28061856399731, 34.17446750780084, 30.687246141348496, 33.20086366054385]\n"
     ]
    },
    {
     "data": {
      "image/png": "[encoded data removed]",
      "text/plain": [
       "<Figure size 432x288 with 1 Axes>"
      ]
     },
     "metadata": {
      "needs_background": "light"
     },
     "output_type": "display_data"
    }
   ],
   "source": [
    "# define filenames\n",
    "filenames = ['flightdelays-2016-1.csv',\n",
    " 'flightdelays-2016-2.csv',\n",
    " 'flightdelays-2016-3.csv',\n",
    " 'flightdelays-2016-4.csv',\n",
    " 'flightdelays-2016-5.csv']\n",
    "\n",
    "# Define the generator: dataframes\n",
    "dataframes = (pd.read_csv(file) for file in filenames)\n",
    "\n",
    "# Create the list comprehension: monthly_delayed\n",
    "monthly_delayed = [pct_delayed(df) for df in dataframes]\n",
    "\n",
    "print(monthly_delayed)\n",
    "\n",
    "\n",
    "# Create the plot\n",
    "import matplotlib.pyplot as plt\n",
    "x = range(1,6)\n",
    "plt.plot(x, monthly_delayed, marker='o', linewidth=0)\n",
    "plt.plot(x, monthly_delayed, marker='o', linewidth=0)\n",
    "plt.ylabel('% Delayed')\n",
    "plt.xlabel('Month - 2016')\n",
    "plt.xlim((1,6))\n",
    "plt.ylim((25,40))\n",
    "plt.show()"
   ]
  },
  {
   "cell_type": "markdown",
   "metadata": {},
   "source": [
    "### Building a pipeline with delayed\n",
    "If we use dask.delayed, we don't need to use generators; the dask scheduler will manage memory usage. In this version of the flight delay analysis, you'll compute the total yearly percentage of delayed flights.\n",
    "\n",
    "Along with pandas, the decorator function delayed has been imported for you from dask, and the following decorated function, which calls pd.read_csv() on a single file, has been created for you:\n",
    "\n",
    "Your job is to define three decorated functions to complete the pipeline: a function to total the number of flights, a function to count the number of delayed flights, and a function to aggregate the results."
   ]
  },
  {
   "cell_type": "code",
   "execution_count": 29,
   "metadata": {},
   "outputs": [],
   "source": [
    "# import dask\n",
    "from dask import delayed\n",
    "\n",
    "@delayed\n",
    "def read_one(filename):\n",
    "    return pd.read_csv(filename)\n",
    "\n",
    "# Define count_flights\n",
    "@delayed\n",
    "def count_flights(df):\n",
    "    return len(df)\n",
    "\n",
    "# Define count_delayed\n",
    "@delayed\n",
    "def count_delayed(df):\n",
    "    return (df['DEP_DELAY']>0).sum()\n",
    "\n",
    "# Define pct_delayed\n",
    "@delayed\n",
    "def pct_delayed(n_delayed,n_flights):\n",
    "    return 100 * sum(n_delayed) / sum(n_flights)"
   ]
  },
  {
   "cell_type": "markdown",
   "metadata": {},
   "source": [
    "### Computing pipelined results\n",
    "Now that the dask.delayed functions are defined, we can use them to construct the pipeline of delayed tasks.\n",
    "\n",
    "Your job is to loop over the file names, store the temporary information in lists, and aggregate the final result. Two empty lists, n_delayed, and n_flights, have been created for you.\n",
    "\n",
    "The distinction here is that we are working with dask.delayed functions and objects, not real, computed values. The computation will only be executed when you call .compute() on the final result (by contrast with earlier exercises)."
   ]
  },
  {
   "cell_type": "code",
   "execution_count": 32,
   "metadata": {},
   "outputs": [
    {
     "name": "stdout",
     "output_type": "stream",
     "text": [
      "32.406252934201824\n"
     ]
    }
   ],
   "source": [
    "# Loop over the provided filenames list and call read_one: df\n",
    "\n",
    "n_delayed = []\n",
    "n_flights = []\n",
    "\n",
    "for file in filenames:\n",
    "    df = read_one(file)\n",
    "\n",
    "    # Append to n_delayed and n_flights\n",
    "    n_delayed.append(count_delayed(df))\n",
    "    n_flights.append(count_flights(df))\n",
    "\n",
    "# Call pct_delayed with n_delayed and n_flights: result\n",
    "result = pct_delayed(n_delayed, n_flights)\n",
    "\n",
    "# Print the output of result.compute()\n",
    "print(result.compute())"
   ]
  },
  {
   "cell_type": "code",
   "execution_count": null,
   "metadata": {},
   "outputs": [],
   "source": []
  }
 ],
 "metadata": {
  "kernelspec": {
   "display_name": "Python 3",
   "language": "python",
   "name": "python3"
  },
  "language_info": {
   "codemirror_mode": {
    "name": "ipython",
    "version": 3
   },
   "file_extension": ".py",
   "mimetype": "text/x-python",
   "name": "python",
   "nbconvert_exporter": "python",
   "pygments_lexer": "ipython3",
   "version": "3.8.3"
  }
 },
 "nbformat": 4,
 "nbformat_minor": 4
}
