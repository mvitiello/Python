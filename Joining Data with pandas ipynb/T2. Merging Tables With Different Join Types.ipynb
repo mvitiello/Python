{
 "cells": [
  {
   "cell_type": "markdown",
   "metadata": {},
   "source": [
    "## Merging Tables With Different Join Types\n",
    "\n",
    "Take your knowledge of joins to the next level. In this chapter, you’ll work with TMDb movie data as you learn about left, right, and outer joins. You’ll also discover how to merge a table to itself and merge on a DataFrame index."
   ]
  },
  {
   "cell_type": "markdown",
   "metadata": {},
   "source": [
    "### Counting missing rows with left join\n",
    "The Movie Database is supported by volunteers going out into the world, collecting data, and entering it into the database. This includes financial data, such as movie budget and revenue. If you wanted to know which movies are still missing data, you could use a left join to identify them. Practice using a left join by merging the movies table and the financials table."
   ]
  },
  {
   "cell_type": "code",
   "execution_count": 2,
   "metadata": {},
   "outputs": [
    {
     "name": "stdout",
     "output_type": "stream",
     "text": [
      "       id     budget       revenue\n",
      "0   19995  237000000  2.787965e+09\n",
      "1     285  300000000  9.610000e+08\n",
      "2  206647  245000000  8.806746e+08\n",
      "3   49026  250000000  1.084939e+09\n",
      "4   49529  260000000  2.841391e+08\n",
      "      id                 title  popularity release_date\n",
      "0    257          Oliver Twist   20.415572   2005-09-23\n",
      "1  14290  Better Luck Tomorrow    3.877036   2002-01-12\n",
      "2  38365             Grown Ups   38.864027   2010-06-24\n",
      "3   9672              Infamous    3.680896   2006-11-16\n",
      "4  12819       Alpha and Omega   12.300789   2010-09-17\n",
      "1574\n"
     ]
    }
   ],
   "source": [
    "# import pandas\n",
    "import pandas as pd\n",
    "\n",
    "# read pickle files\n",
    "movies = pd.read_pickle(\"movies.p\")\n",
    "financials = pd.read_pickle(\"financials.p\")\n",
    "print(financials.head())\n",
    "print(movies.head())\n",
    "\n",
    "# Merge the movies table with the financials table with a left join\n",
    "movies_financials = movies.merge(financials, on='id', how='left')\n",
    "\n",
    "# Count the number of rows in the budget column that are missing\n",
    "number_of_missing_fin = movies_financials['budget'].isnull().sum()\n",
    "\n",
    "# Print the number of movies missing financials\n",
    "print(number_of_missing_fin)"
   ]
  },
  {
   "cell_type": "markdown",
   "metadata": {},
   "source": [
    "### Self join\n",
    "Merging a table to itself can be useful when you want to compare values in a column to other values in the same column. In this exercise, you will practice this by creating a table that for each movie will list the movie director and a member of the crew on one row. You have been given a table called crews, which has columns id, job, and name. First, merge the table to itself using the movie ID. This merge will give you a larger table where for each movie, every job is matched against each other. Then select only those rows with a director in the left table, and avoid having a row where the director's job is listed in both the left and right tables. This filtering will remove job combinations that aren't with the director."
   ]
  },
  {
   "cell_type": "code",
   "execution_count": 3,
   "metadata": {},
   "outputs": [
    {
     "name": "stdout",
     "output_type": "stream",
     "text": [
      "      id  department             job               name\n",
      "0  19995     Editing          Editor  Stephen E. Rivkin\n",
      "2  19995       Sound  Sound Designer  Christopher Boyes\n",
      "4  19995  Production         Casting          Mali Finn\n",
      "6  19995   Directing        Director      James Cameron\n",
      "7  19995     Writing          Writer      James Cameron\n",
      "        id department_dir   job_dir       name_dir department_crew  \\\n",
      "156  19995      Directing  Director  James Cameron         Editing   \n",
      "157  19995      Directing  Director  James Cameron           Sound   \n",
      "158  19995      Directing  Director  James Cameron      Production   \n",
      "160  19995      Directing  Director  James Cameron         Writing   \n",
      "161  19995      Directing  Director  James Cameron             Art   \n",
      "\n",
      "           job_crew          name_crew  \n",
      "156          Editor  Stephen E. Rivkin  \n",
      "157  Sound Designer  Christopher Boyes  \n",
      "158         Casting          Mali Finn  \n",
      "160          Writer      James Cameron  \n",
      "161    Set Designer    Richard F. Mays  \n"
     ]
    }
   ],
   "source": [
    "# read pickle files\n",
    "crews = pd.read_pickle(\"crews.p\")\n",
    "print(crews.head())\n",
    "\n",
    "# Merge the crews table to itself\n",
    "crews_self_merged = crews.merge(crews, on='id', how='inner',\n",
    "                                suffixes=('_dir','_crew'))\n",
    "\n",
    "# Create a boolean index to select the appropriate rows\n",
    "boolean_filter = ((crews_self_merged['job_dir'] == 'Director') & \n",
    "                  (crews_self_merged['job_crew'] != 'Director'))\n",
    "direct_crews = crews_self_merged[boolean_filter]\n",
    "\n",
    "# Print the first few rows of direct_crews\n",
    "print(direct_crews.head())"
   ]
  },
  {
   "cell_type": "markdown",
   "metadata": {},
   "source": [
    "### Index merge for movie ratings\n",
    "To practice merging on indexes, you will merge movies and a table called ratings that holds info about movie ratings. Make sure your merge returns all of the rows from the movies table and not all the rows of ratings table need to be included in the result."
   ]
  },
  {
   "cell_type": "code",
   "execution_count": 4,
   "metadata": {},
   "outputs": [
    {
     "name": "stdout",
     "output_type": "stream",
     "text": [
      "       id  vote_average  vote_count\n",
      "0   19995           7.2     11800.0\n",
      "1     285           6.9      4500.0\n",
      "2  206647           6.3      4466.0\n",
      "3   49026           7.6      9106.0\n",
      "4   49529           6.1      2124.0\n",
      "      id                 title  popularity release_date\n",
      "0    257          Oliver Twist   20.415572   2005-09-23\n",
      "1  14290  Better Luck Tomorrow    3.877036   2002-01-12\n",
      "2  38365             Grown Ups   38.864027   2010-06-24\n",
      "3   9672              Infamous    3.680896   2006-11-16\n",
      "4  12819       Alpha and Omega   12.300789   2010-09-17\n",
      "      id                 title  popularity release_date  vote_average  \\\n",
      "0    257          Oliver Twist   20.415572   2005-09-23           6.7   \n",
      "1  14290  Better Luck Tomorrow    3.877036   2002-01-12           6.5   \n",
      "2  38365             Grown Ups   38.864027   2010-06-24           6.0   \n",
      "3   9672              Infamous    3.680896   2006-11-16           6.4   \n",
      "4  12819       Alpha and Omega   12.300789   2010-09-17           5.3   \n",
      "\n",
      "   vote_count  \n",
      "0       274.0  \n",
      "1        27.0  \n",
      "2      1705.0  \n",
      "3        60.0  \n",
      "4       124.0  \n"
     ]
    }
   ],
   "source": [
    "# read pickle files\n",
    "movies = pd.read_pickle(\"movies.p\")\n",
    "ratings = pd.read_pickle(\"ratings.p\")\n",
    "print(ratings.head())\n",
    "print(movies.head())\n",
    "\n",
    "# Merge to the movies table the ratings table on the index\n",
    "movies_ratings = movies.merge(ratings, on='id', how='left')\n",
    "\n",
    "# Print the first few rows of movies_ratings\n",
    "print(movies_ratings.head())"
   ]
  },
  {
   "cell_type": "markdown",
   "metadata": {},
   "source": [
    "### Do sequels earn more?\n",
    "It is time to put together many of the aspects that you have learned in this chapter. In this exercise, you'll find out which movie sequels earned the most compared to the original movie. To answer this question, you will merge a modified version of the sequels and financials tables where their index is the movie ID. You will need to choose a merge type that will return all of the rows from the sequels table and not all the rows of financials table need to be included in the result. From there, you will join the resulting table to itself so that you can compare the revenue values of the original movie to the sequel. Next, you will calculate the difference between the two revenues and sort the resulting dataset."
   ]
  },
  {
   "cell_type": "code",
   "execution_count": 7,
   "metadata": {},
   "outputs": [
    {
     "name": "stdout",
     "output_type": "stream",
     "text": [
      "       id     budget       revenue\n",
      "0   19995  237000000  2.787965e+09\n",
      "1     285  300000000  9.610000e+08\n",
      "2  206647  245000000  8.806746e+08\n",
      "3   49026  250000000  1.084939e+09\n",
      "4   49529  260000000  2.841391e+08\n",
      "      id         title  sequel\n",
      "0  19995        Avatar    <NA>\n",
      "1    862     Toy Story     863\n",
      "2    863   Toy Story 2   10193\n",
      "3    597       Titanic    <NA>\n",
      "4  24428  The Avengers    <NA>\n",
      "      id         title  sequel\n",
      "0  19995        Avatar       0\n",
      "1    862     Toy Story     863\n",
      "2    863   Toy Story 2   10193\n",
      "3    597       Titanic       0\n",
      "4  24428  The Avengers       0\n",
      "                    title_org title_seq          diff\n",
      "3375             Split Second    Avatar  2.787965e+09\n",
      "3374  Dreaming of Joseph Lees    Avatar  2.787965e+09\n",
      "3373             Bran Nue Dae    Avatar  2.787965e+09\n",
      "3371        Of Horses and Men    Avatar  2.787965e+09\n",
      "3370                 F.I.S.T.    Avatar  2.787965e+09\n"
     ]
    }
   ],
   "source": [
    "# read pickle files\n",
    "sequels = pd.read_pickle(\"sequels.p\")\n",
    "financials = pd.read_pickle(\"financials.p\")\n",
    "print(financials.head())\n",
    "print(sequels.head())\n",
    "\n",
    "# fill na values\n",
    "sequels = sequels.fillna(0)\n",
    "print(sequels.head())\n",
    "\n",
    "# Merge sequels and financials on index id\n",
    "sequels_fin = sequels.merge(financials, on='id', how='left')\n",
    "\n",
    "# Self merge with suffixes as inner join with left on sequel and right on id\n",
    "orig_seq = sequels_fin.merge(sequels_fin, how='inner', left_on='sequel', \n",
    "                             right_on='id', right_index=True,\n",
    "                             suffixes=('_org','_seq'))\n",
    "\n",
    "# Add calculation to subtract revenue_org from revenue_seq \n",
    "orig_seq['diff'] = orig_seq['revenue_seq'] - orig_seq['revenue_org']\n",
    "\n",
    "# Select the title_org, title_seq, and diff \n",
    "titles_diff = orig_seq[['title_org','title_seq','diff']]\n",
    "\n",
    "# Print the first rows of the sorted titles_diff\n",
    "print(titles_diff.sort_values(by = 'diff', ascending=False).head())"
   ]
  },
  {
   "cell_type": "code",
   "execution_count": null,
   "metadata": {},
   "outputs": [],
   "source": []
  }
 ],
 "metadata": {
  "kernelspec": {
   "display_name": "Python 3",
   "language": "python",
   "name": "python3"
  },
  "language_info": {
   "codemirror_mode": {
    "name": "ipython",
    "version": 3
   },
   "file_extension": ".py",
   "mimetype": "text/x-python",
   "name": "python",
   "nbconvert_exporter": "python",
   "pygments_lexer": "ipython3",
   "version": "3.8.3"
  }
 },
 "nbformat": 4,
 "nbformat_minor": 4
}
