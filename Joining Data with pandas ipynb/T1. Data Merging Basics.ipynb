{
 "cells": [
  {
   "cell_type": "markdown",
   "metadata": {},
   "source": [
    "# Joining Data with pandas\n",
    "\n",
    "Being able to combine and work with multiple datasets is an essential skill for any aspiring Data Scientist. Pandas is a crucial cornerstone of the Python data science ecosystem, with Stack Overflow recording 5 million views for pandas questions. Learn to handle multiple DataFrames by combining, organizing, joining, and reshaping them using pandas. You'll work with datasets from the World Bank and the City Of Chicago. You will finish the course with a solid skillset for data-joining in pandas."
   ]
  },
  {
   "cell_type": "markdown",
   "metadata": {},
   "source": [
    "## Data Merging Basics\n",
    "\n",
    "Learn how you can merge disparate data using inner joins. By combining information from multiple sources you’ll uncover compelling insights that may have previously been hidden. You’ll also learn how the relationship between those sources, such as one-to-one or one-to-many, can affect your result."
   ]
  },
  {
   "cell_type": "markdown",
   "metadata": {},
   "source": [
    "### Your first inner join\n",
    "You have been tasked with figuring out what the most popular types of fuel used in Chicago taxis are. To complete the analysis, you need to merge the taxi_owners and taxi_veh tables together on the vid column. You can then use the merged table along with the .value_counts() method to find the most common fuel_type."
   ]
  },
  {
   "cell_type": "code",
   "execution_count": 4,
   "metadata": {},
   "outputs": [
    {
     "name": "stdout",
     "output_type": "stream",
     "text": [
      "     rid   vid           owner                 address    zip\n",
      "0  T6285  6285  AGEAN TAXI LLC     4536 N. ELSTON AVE.  60630\n",
      "1  T4862  4862    MANGIB CORP.  5717 N. WASHTENAW AVE.  60659\n",
      "2  T1495  1495   FUNRIDE, INC.     3351 W. ADDISON ST.  60618\n",
      "3  T4231  4231    ALQUSH CORP.   6611 N. CAMPBELL AVE.  60645\n",
      "4  T5971  5971  EUNIFFORD INC.     3351 W. ADDISON ST.  60618\n",
      "    vid    make   model  year fuel_type                owner\n",
      "0  2767  TOYOTA   CAMRY  2013    HYBRID       SEYED M. BADRI\n",
      "1  1411  TOYOTA    RAV4  2017    HYBRID          DESZY CORP.\n",
      "2  6500  NISSAN  SENTRA  2019  GASOLINE       AGAPH CAB CORP\n",
      "3  2746  TOYOTA   CAMRY  2013    HYBRID  MIDWEST CAB CO, INC\n",
      "4  5922  TOYOTA   CAMRY  2013    HYBRID       SUMETTI CAB CO\n",
      "     rid   vid         owner_x                 address    zip    make   model  \\\n",
      "0  T6285  6285  AGEAN TAXI LLC     4536 N. ELSTON AVE.  60630  NISSAN  ALTIMA   \n",
      "1  T4862  4862    MANGIB CORP.  5717 N. WASHTENAW AVE.  60659   HONDA     CRV   \n",
      "2  T1495  1495   FUNRIDE, INC.     3351 W. ADDISON ST.  60618  TOYOTA  SIENNA   \n",
      "3  T4231  4231    ALQUSH CORP.   6611 N. CAMPBELL AVE.  60645  TOYOTA   CAMRY   \n",
      "4  T5971  5971  EUNIFFORD INC.     3351 W. ADDISON ST.  60618  TOYOTA  SIENNA   \n",
      "\n",
      "   year fuel_type         owner_y  \n",
      "0  2011    HYBRID  AGEAN TAXI LLC  \n",
      "1  2014  GASOLINE    MANGIB CORP.  \n",
      "2  2015  GASOLINE   FUNRIDE, INC.  \n",
      "3  2014    HYBRID    ALQUSH CORP.  \n",
      "4  2015  GASOLINE  EUNIFFORD INC.  \n",
      "Index(['rid', 'vid', 'owner_x', 'address', 'zip', 'make', 'model', 'year',\n",
      "       'fuel_type', 'owner_y'],\n",
      "      dtype='object')\n"
     ]
    }
   ],
   "source": [
    "# import pandas\n",
    "import pandas as pd\n",
    "\n",
    "# read pickle files\n",
    "taxi_owners = pd.read_pickle(\"taxi_owners.p\")\n",
    "taxi_veh = pd.read_pickle(\"taxi_vehicles.p\")\n",
    "print(taxi_owners.head())\n",
    "print(taxi_veh.head())\n",
    "\n",
    "# Merge the taxi_owners and taxi_veh tables\n",
    "taxi_own_veh = taxi_owners.merge(taxi_veh, on ='vid')\n",
    "\n",
    "# Print the column names of the taxi_own_veh\n",
    "print(taxi_own_veh.head())\n",
    "print(taxi_own_veh.columns)\n"
   ]
  },
  {
   "cell_type": "code",
   "execution_count": 5,
   "metadata": {},
   "outputs": [
    {
     "name": "stdout",
     "output_type": "stream",
     "text": [
      "        rid   vid         owner_own                 address    zip    make  \\\n",
      "0     T6285  6285    AGEAN TAXI LLC     4536 N. ELSTON AVE.  60630  NISSAN   \n",
      "1     T4862  4862      MANGIB CORP.  5717 N. WASHTENAW AVE.  60659   HONDA   \n",
      "2     T1495  1495     FUNRIDE, INC.     3351 W. ADDISON ST.  60618  TOYOTA   \n",
      "3     T4231  4231      ALQUSH CORP.   6611 N. CAMPBELL AVE.  60645  TOYOTA   \n",
      "4     T5971  5971    EUNIFFORD INC.     3351 W. ADDISON ST.  60618  TOYOTA   \n",
      "...     ...   ...               ...                     ...    ...     ...   \n",
      "3514  T4453  4453   IMAGIN CAB CORP     3351 W. ADDISON ST.  60618    FORD   \n",
      "3515   T121   121  TRIBECA CAB CORP     4536 N. ELSTON AVE.  60630    FORD   \n",
      "3516  T3465  3465  AMIR EXPRESS INC     3351 W. ADDISON ST.  60618  TOYOTA   \n",
      "3517  T1962  1962  KARY CAB COMPANY     4707 N. KENTON AVE.  60630  TOYOTA   \n",
      "3518  T1031  1031       NECT 42 LLC    6500 N. WESTERN AVE.  60645    FORD   \n",
      "\n",
      "       model  year fuel_type         owner_veh  \n",
      "0     ALTIMA  2011    HYBRID    AGEAN TAXI LLC  \n",
      "1        CRV  2014  GASOLINE      MANGIB CORP.  \n",
      "2     SIENNA  2015  GASOLINE     FUNRIDE, INC.  \n",
      "3      CAMRY  2014    HYBRID      ALQUSH CORP.  \n",
      "4     SIENNA  2015  GASOLINE    EUNIFFORD INC.  \n",
      "...      ...   ...       ...               ...  \n",
      "3514  ESCAPE  2010    HYBRID   IMAGIN CAB CORP  \n",
      "3515   C-MAX  2014    HYBRID  TRIBECA CAB CORP  \n",
      "3516   CAMRY  2014    HYBRID  AMIR EXPRESS INC  \n",
      "3517   CAMRY  2014    HYBRID  KARY CAB COMPANY  \n",
      "3518  FUSION  2014    HYBRID       NECT 42 LLC  \n",
      "\n",
      "[3519 rows x 10 columns]\n",
      "Index(['rid', 'vid', 'owner_own', 'address', 'zip', 'make', 'model', 'year',\n",
      "       'fuel_type', 'owner_veh'],\n",
      "      dtype='object')\n"
     ]
    }
   ],
   "source": [
    "# Merge the taxi_owners and taxi_veh tables setting a suffix\n",
    "taxi_own_veh = taxi_owners.merge(taxi_veh, on='vid', suffixes=('_own','_veh'))\n",
    "\n",
    "# Print the table and the column names of taxi_own_veh\n",
    "print(taxi_own_veh)\n",
    "print(taxi_own_veh.columns)\n"
   ]
  },
  {
   "cell_type": "code",
   "execution_count": 6,
   "metadata": {},
   "outputs": [
    {
     "name": "stdout",
     "output_type": "stream",
     "text": [
      "HYBRID                    2792\n",
      "GASOLINE                   611\n",
      "FLEX FUEL                   89\n",
      "COMPRESSED NATURAL GAS      27\n",
      "Name: fuel_type, dtype: int64\n"
     ]
    }
   ],
   "source": [
    "# Merge the taxi_owners and taxi_veh tables setting a suffix\n",
    "taxi_own_veh = taxi_owners.merge(taxi_veh, on='vid', suffixes=('_own','_veh'))\n",
    "\n",
    "# Print the most popular fuel_type\n",
    "print(taxi_own_veh['fuel_type'].value_counts())"
   ]
  },
  {
   "cell_type": "markdown",
   "metadata": {},
   "source": [
    "### Inner joins and number of rows returned\n",
    "All of the merges you have studied to this point are called inner joins. It is necessary to understand that inner joins only return the rows with matching values in both tables. You will explore this further by reviewing the merge between the wards and census tables. You will examine how this affects the merge between them.\n",
    "\n",
    "For this exercise, it is important to know that the wards and census tables start with 50 rows."
   ]
  },
  {
   "cell_type": "code",
   "execution_count": 8,
   "metadata": {},
   "outputs": [
    {
     "name": "stdout",
     "output_type": "stream",
     "text": [
      "  ward            alderman                          address    zip\n",
      "0    1  Proco \"Joe\" Moreno        2058 NORTH WESTERN AVENUE  60647\n",
      "1    2       Brian Hopkins       1400 NORTH  ASHLAND AVENUE  60622\n",
      "2    3          Pat Dowell          5046 SOUTH STATE STREET  60609\n",
      "3    4    William D. Burns  435 EAST 35TH STREET, 1ST FLOOR  60616\n",
      "4    5  Leslie A. Hairston            2325 EAST 71ST STREET  60649\n",
      "  ward  pop_2000  pop_2010 change                                  address  \\\n",
      "0    1     52951     56149     6%              2765 WEST SAINT MARY STREET   \n",
      "1    2     54361     55805     3%                 WM WASTE MANAGEMENT 1500   \n",
      "2    3     40385     53039    31%                      17 EAST 38TH STREET   \n",
      "3    4     51953     54589     5%  31ST ST HARBOR BUILDING LAKEFRONT TRAIL   \n",
      "4    5     55302     51455    -7%  JACKSON PARK LAGOON SOUTH CORNELL DRIVE   \n",
      "\n",
      "     zip  \n",
      "0  60647  \n",
      "1  60622  \n",
      "2  60653  \n",
      "3  60653  \n",
      "4  60637  \n",
      "  ward            alderman                        address_x  zip_x  pop_2000  \\\n",
      "0    1  Proco \"Joe\" Moreno        2058 NORTH WESTERN AVENUE  60647     52951   \n",
      "1    2       Brian Hopkins       1400 NORTH  ASHLAND AVENUE  60622     54361   \n",
      "2    3          Pat Dowell          5046 SOUTH STATE STREET  60609     40385   \n",
      "3    4    William D. Burns  435 EAST 35TH STREET, 1ST FLOOR  60616     51953   \n",
      "4    5  Leslie A. Hairston            2325 EAST 71ST STREET  60649     55302   \n",
      "\n",
      "   pop_2010 change                                address_y  zip_y  \n",
      "0     56149     6%              2765 WEST SAINT MARY STREET  60647  \n",
      "1     55805     3%                 WM WASTE MANAGEMENT 1500  60622  \n",
      "2     53039    31%                      17 EAST 38TH STREET  60653  \n",
      "3     54589     5%  31ST ST HARBOR BUILDING LAKEFRONT TRAIL  60653  \n",
      "4     51455    -7%  JACKSON PARK LAGOON SOUTH CORNELL DRIVE  60637  \n",
      "(50, 9)\n"
     ]
    }
   ],
   "source": [
    "# read pickle files\n",
    "wards = pd.read_pickle(\"ward.p\")\n",
    "census = pd.read_pickle(\"census.p\")\n",
    "print(ward.head())\n",
    "print(census.head())\n",
    "\n",
    "# Merge the wards and census tables on the ward column\n",
    "wards_census = wards.merge(census, on ='ward')\n",
    "\n",
    "# Print the table and shape of wards_census\n",
    "print(wards_census.head())\n",
    "print(wards_census.shape)"
   ]
  },
  {
   "cell_type": "code",
   "execution_count": 10,
   "metadata": {},
   "outputs": [
    {
     "name": "stdout",
     "output_type": "stream",
     "text": [
      "  ward            alderman                         address_x  zip_x  pop_2000  \\\n",
      "0    2       Brian Hopkins        1400 NORTH  ASHLAND AVENUE  60622     54361   \n",
      "1    3          Pat Dowell           5046 SOUTH STATE STREET  60609     40385   \n",
      "2    4    William D. Burns   435 EAST 35TH STREET, 1ST FLOOR  60616     51953   \n",
      "3    5  Leslie A. Hairston             2325 EAST 71ST STREET  60649     55302   \n",
      "4    6  Roderick T. Sawyer  8001 S. MARTIN LUTHER KING DRIVE  60619     54989   \n",
      "\n",
      "   pop_2010 change                                address_y  zip_y  \n",
      "0     55805     3%                 WM WASTE MANAGEMENT 1500  60622  \n",
      "1     53039    31%                      17 EAST 38TH STREET  60653  \n",
      "2     54589     5%  31ST ST HARBOR BUILDING LAKEFRONT TRAIL  60653  \n",
      "3     51455    -7%  JACKSON PARK LAGOON SOUTH CORNELL DRIVE  60637  \n",
      "4     52341    -5%                     150 WEST 74TH STREET  60636  \n",
      "(49, 9)\n"
     ]
    }
   ],
   "source": [
    "# Change '1' to None in `ward` col\n",
    "census.loc[census['ward'] == '1', 'ward'] = None\n",
    "\n",
    "# Merge the wards and census tables on the ward column\n",
    "wards_census = wards.merge(census, on='ward')\n",
    "\n",
    "# Print the shape of wards_census\n",
    "print(wards_census.head())\n",
    "print(wards_census.shape)"
   ]
  },
  {
   "cell_type": "markdown",
   "metadata": {},
   "source": [
    "### One-to-many merge\n",
    "A business may have one or multiple owners. In this exercise, you will continue to gain experience with one-to-many merges by merging a table of business owners, called biz_owners, to the licenses table. Recall from the video lesson, with a one-to-many relationship, a row in the left table may be repeated if it is related to multiple rows in the right table. In this lesson, you will explore this further by finding out what is the most common business owner title. (i.e., secretary, CEO, or vice president). "
   ]
  },
  {
   "cell_type": "code",
   "execution_count": 13,
   "metadata": {},
   "outputs": [
    {
     "name": "stdout",
     "output_type": "stream",
     "text": [
      "  account ward  aid                   business               address    zip\n",
      "0  307071    3  743       REGGIE'S BAR & GRILL       2105 S STATE ST  60616\n",
      "1      10   10  829                 HONEYBEERS   13200 S HOUSTON AVE  60633\n",
      "2   10002   14  775                CELINA DELI     5089 S ARCHER AVE  60632\n",
      "3   10005   12  NaN  KRAFT FOODS NORTH AMERICA        2005 W 43RD ST  60609\n",
      "4   10044   44  638  NEYBOUR'S TAVERN & GRILLE  3651 N SOUTHPORT AVE  60613\n",
      "  account first_name  last_name      title\n",
      "0      10      PEARL    SHERMAN  PRESIDENT\n",
      "1      10      PEARL    SHERMAN  SECRETARY\n",
      "2   10002     WALTER     MROZEK    PARTNER\n",
      "3   10002     CELINA     BYRDAK    PARTNER\n",
      "4   10005      IRENE  ROSENFELD  PRESIDENT\n",
      "                 account\n",
      "title                   \n",
      "PRESIDENT           6259\n",
      "SECRETARY           5205\n",
      "SOLE PROPRIETOR     1658\n",
      "OTHER               1200\n",
      "VICE PRESIDENT       970\n"
     ]
    }
   ],
   "source": [
    "# read pickle files\n",
    "licenses = pd.read_pickle(\"licenses.p\")\n",
    "biz_owners = pd.read_pickle(\"business_owners.p\")\n",
    "print(licenses.head())\n",
    "print(biz_owners.head())\n",
    "\n",
    "# Merge the licenses and biz_owners table on account\n",
    "licenses_owners = licenses.merge(biz_owners, on ='account')\n",
    "\n",
    "# Group the results by title then count the number of accounts\n",
    "counted_df = licenses_owners.groupby('title').agg({'account':'count'})\n",
    "\n",
    "# Sort the counted_df in desending order\n",
    "sorted_df = counted_df.sort_values(by ='account', ascending = False)\n",
    "\n",
    "# Use .head() method to print the first few rows of sorted_df\n",
    "print(sorted_df.head())"
   ]
  },
  {
   "cell_type": "markdown",
   "metadata": {},
   "source": [
    "### Total riders in a month\n",
    "Your goal is to find the total number of rides provided to passengers passing through the Wilson station (station_name == 'Wilson') when riding Chicago's public transportation system on weekdays (day_type == 'Weekday') in July (month == 7). Luckily, Chicago provides this detailed data, but it is in three different tables. You will work on merging these tables together to answer the question."
   ]
  },
  {
   "cell_type": "code",
   "execution_count": 15,
   "metadata": {},
   "outputs": [
    {
     "name": "stdout",
     "output_type": "stream",
     "text": [
      "   year  month  day        day_type\n",
      "0  2019      1    1  Sunday/Holiday\n",
      "1  2019      1    2         Weekday\n",
      "2  2019      1    3         Weekday\n",
      "3  2019      1    4         Weekday\n",
      "4  2019      1    5        Saturday\n",
      "  station_id  year  month  day  rides\n",
      "0      40010  2019      1    1    576\n",
      "1      40010  2019      1    2   1457\n",
      "2      40010  2019      1    3   1543\n",
      "3      40010  2019      1    4   1621\n",
      "4      40010  2019      1    5    719\n",
      "  station_id  year  month  day  rides        day_type\n",
      "0      40010  2019      1    1    576  Sunday/Holiday\n",
      "1      40080  2019      1    1   1839  Sunday/Holiday\n",
      "2      40770  2019      1    1   2724  Sunday/Holiday\n",
      "3      40120  2019      1    1    754  Sunday/Holiday\n",
      "4      40540  2019      1    1   2175  Sunday/Holiday\n"
     ]
    }
   ],
   "source": [
    "# read pickle files\n",
    "cal = pd.read_pickle(\"cta_calendar.p\")\n",
    "ridership = pd.read_pickle(\"cta_ridership.p\")\n",
    "print(cal.head())\n",
    "print(ridership.head())\n",
    "\n",
    "# Merge the ridership and cal tables\n",
    "ridership_cal = ridership.merge(cal, on = ['year', 'month', 'day'])\n",
    "print(ridership_cal.head())"
   ]
  },
  {
   "cell_type": "markdown",
   "metadata": {},
   "source": [
    "### Three table merge\n",
    "To solidify the concept of a three DataFrame merge, practice another exercise. A reasonable extension of our review of Chicago business data would include looking at demographics information about the neighborhoods where the businesses are. A table with the median income by zip code has been provided to you. You will merge the licenses and wards tables with this new income-by-zip-code table called zip_demo."
   ]
  },
  {
   "cell_type": "code",
   "execution_count": 19,
   "metadata": {},
   "outputs": [
    {
     "name": "stdout",
     "output_type": "stream",
     "text": [
      "                           income\n",
      "alderman                         \n",
      "Ameya Pawar                 66246\n",
      "Anthony A. Beale            38206\n",
      "Anthony V. Napolitano       82226\n",
      "Ariel E. Reyboras           41307\n",
      "Brendan Reilly             110215\n",
      "Brian Hopkins               87143\n",
      "Carlos Ramirez-Rosa         66246\n",
      "Carrie M. Austin            38206\n",
      "Chris Taliaferro            55566\n",
      "Daniel \"Danny\" Solis        41226\n",
      "David H. Moore              33304\n",
      "Deborah Mell                66246\n",
      "Debra L. Silverstein        50554\n",
      "Derrick G. Curtis           65770\n",
      "Edward M. Burke             42335\n",
      "Emma M. Mitts               36283\n",
      "George Cardenas             33959\n",
      "Gilbert Villegas            41307\n",
      "Gregory I. Mitchell         24941\n",
      "Harry Osterman              45442\n",
      "Howard B. Brookins, Jr.     33304\n",
      "James Cappleman             79565\n",
      "Jason C. Ervin              41226\n",
      "Joe Moore                   39163\n",
      "John S. Arena               70122\n",
      "Leslie A. Hairston          28024\n",
      "Margaret Laurino            70122\n",
      "Marty Quinn                 67045\n",
      "Matthew J. O'Shea           59488\n",
      "Michael R. Zalewski         42335\n",
      "Michael Scott, Jr.          31445\n",
      "Michelle A. Harris          32558\n",
      "Michelle Smith             100116\n",
      "Milagros \"Milly\" Santiago   41307\n",
      "Nicholas Sposato            62223\n",
      "Pat Dowell                  46340\n",
      "Patrick Daley Thompson      41226\n",
      "Patrick J. O'Connor         50554\n",
      "Proco \"Joe\" Moreno          87143\n",
      "Raymond A. Lopez            33959\n",
      "Ricardo Munoz               31445\n",
      "Roberto Maldonado           68223\n",
      "Roderick T. Sawyer          32558\n",
      "Scott Waguespack            68223\n",
      "Susan Sadlowski Garza       38417\n",
      "Tom Tunney                  88708\n",
      "Toni L. Foulkes             27573\n",
      "Walter Burnett, Jr.         87143\n",
      "William D. Burns           107811\n",
      "Willie B. Cochran           28024\n"
     ]
    }
   ],
   "source": [
    "# read pickle files\n",
    "zip_demo = pd.read_pickle(\"zip_demo.p\")\n",
    "\n",
    "# Merge licenses and zip_demo, on zip; and merge the wards on ward\n",
    "licenses_zip_ward = licenses.merge(zip_demo, on = 'zip').merge(wards, on = 'ward')\n",
    "\n",
    "# Print the results by alderman and show median income\n",
    "print(licenses_zip_ward.groupby(by = 'alderman').agg({'income':'median'}))"
   ]
  },
  {
   "cell_type": "markdown",
   "metadata": {},
   "source": [
    "### One-to-many merge with multiple tables\n",
    "In this exercise, assume that you are looking to start a business in the city of Chicago. Your perfect idea is to start a company that uses goats to mow the lawn for other businesses. However, you have to choose a location in the city to put your goat farm. You need a location with a great deal of space and relatively few businesses and people around to avoid complaints about the smell. You will need to merge three tables to help you choose your location. The land_use table has info on the percentage of vacant land by city ward. The census table has population by ward, and the licenses table lists businesses by ward."
   ]
  },
  {
   "cell_type": "code",
   "execution_count": 21,
   "metadata": {},
   "outputs": [
    {
     "name": "stdout",
     "output_type": "stream",
     "text": [
      "  ward  residential  commercial  industrial  vacant  other  pop_2000  \\\n",
      "0    2           31          11           6       2     50     54361   \n",
      "1    2           31          11           6       2     50     54361   \n",
      "2    2           31          11           6       2     50     54361   \n",
      "3    2           31          11           6       2     50     54361   \n",
      "4    2           31          11           6       2     50     54361   \n",
      "\n",
      "   pop_2010 change               address_cen zip_cen account  aid  \\\n",
      "0     55805     3%  WM WASTE MANAGEMENT 1500   60622   10213  NaN   \n",
      "1     55805     3%  WM WASTE MANAGEMENT 1500   60622     106  638   \n",
      "2     55805     3%  WM WASTE MANAGEMENT 1500   60622   10767  NaN   \n",
      "3     55805     3%  WM WASTE MANAGEMENT 1500   60622   11474  784   \n",
      "4     55805     3%  WM WASTE MANAGEMENT 1500   60622   12870  NaN   \n",
      "\n",
      "                         business                    address_lic zip_lic  \n",
      "0              HOG HEAD MCDUNNA'S  1503-1507 W FULLERTON AVE 1ST   60614  \n",
      "1                       ZAVEN INC          260 E CHESTNUT ST 1ST   60611  \n",
      "2                            CAHG        211 E CHICAGO AVE  1600   60611  \n",
      "3                    THE FRONTIER           1072 N MILWAUKEE AVE   60642  \n",
      "4  DAY BY DAY CALENDAR CO. # 4223      835 N MICHIGAN AVE 4 5071   60611  \n"
     ]
    }
   ],
   "source": [
    "# read pickle files\n",
    "land_use = pd.read_pickle(\"land_use.p\")\n",
    "\n",
    "# Merge land_use and census and merge result with licenses including suffixes\n",
    "land_cen_lic = land_use.merge(census, on = 'ward').merge(licenses, on = 'ward', suffixes = ('_cen', '_lic'))\n",
    "\n",
    "print(land_cen_lic.head())"
   ]
  },
  {
   "cell_type": "code",
   "execution_count": 23,
   "metadata": {},
   "outputs": [
    {
     "name": "stdout",
     "output_type": "stream",
     "text": [
      "  ward  pop_2010  vacant  account\n",
      "0   10     51535      14      130\n",
      "1   11     51497       5      201\n",
      "2   12     52235       4      255\n",
      "3   13     53722       1      101\n",
      "4   14     54031       3      202\n"
     ]
    }
   ],
   "source": [
    "# Merge land_use and census and merge result with licenses including suffixes\n",
    "land_cen_lic = land_use.merge(census, on='ward').merge(licenses, on='ward', suffixes=('_cen','_lic'))\n",
    "\n",
    "# Group by ward, pop_2010, and vacant, then count the # of accounts\n",
    "pop_vac_lic = land_cen_lic.groupby(['ward','pop_2010','vacant'], as_index=False).agg({'account':'count'})\n",
    "\n",
    "print(pop_vac_lic.head())"
   ]
  },
  {
   "cell_type": "code",
   "execution_count": 24,
   "metadata": {},
   "outputs": [
    {
     "name": "stdout",
     "output_type": "stream",
     "text": [
      "   ward  pop_2010  vacant  account\n",
      "46    7     51581      19       80\n",
      "11   20     52372      15      123\n",
      "0    10     51535      14      130\n",
      "15   24     54909      13       98\n",
      "6    16     51954      13      156\n"
     ]
    }
   ],
   "source": [
    "# Sort pop_vac_lic and print the results\n",
    "sorted_pop_vac_lic = pop_vac_lic.sort_values(by = ['vacant', 'account', 'pop_2010'], \n",
    "                                             ascending= [False, True, True])\n",
    "\n",
    "# Print the top few rows of sorted_pop_vac_lic\n",
    "print(sorted_pop_vac_lic.head())"
   ]
  },
  {
   "cell_type": "code",
   "execution_count": null,
   "metadata": {},
   "outputs": [],
   "source": []
  }
 ],
 "metadata": {
  "kernelspec": {
   "display_name": "Python 3",
   "language": "python",
   "name": "python3"
  },
  "language_info": {
   "codemirror_mode": {
    "name": "ipython",
    "version": 3
   },
   "file_extension": ".py",
   "mimetype": "text/x-python",
   "name": "python",
   "nbconvert_exporter": "python",
   "pygments_lexer": "ipython3",
   "version": "3.8.3"
  }
 },
 "nbformat": 4,
 "nbformat_minor": 4
}
