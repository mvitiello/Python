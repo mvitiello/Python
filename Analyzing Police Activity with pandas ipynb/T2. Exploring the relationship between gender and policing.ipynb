{
 "cells": [
  {
   "cell_type": "markdown",
   "metadata": {},
   "source": [
    "## Exploring the relationship between gender and policing\n",
    "\n",
    "Does the gender of a driver have an impact on police behavior during a traffic stop? In this chapter, you will explore that question while practicing filtering, grouping, method chaining, Boolean math, string methods, and more!"
   ]
  },
  {
   "cell_type": "markdown",
   "metadata": {},
   "source": [
    "### Examining traffic violations\n",
    "Before comparing the violations being committed by each gender, you should examine the violations committed by all drivers to get a baseline understanding of the data.\n",
    "\n",
    "In this exercise, you'll count the unique values in the violation column, and then separately express those counts as proportions."
   ]
  },
  {
   "cell_type": "code",
   "execution_count": 1,
   "metadata": {},
   "outputs": [
    {
     "name": "stdout",
     "output_type": "stream",
     "text": [
      "Speeding               39705\n",
      "Moving violation       12811\n",
      "Equipment               7414\n",
      "Other                   3755\n",
      "Registration/plates     2542\n",
      "Seat belt                376\n",
      "Name: violation, dtype: int64\n",
      "Speeding               0.596144\n",
      "Moving violation       0.192349\n",
      "Equipment              0.111316\n",
      "Other                  0.056379\n",
      "Registration/plates    0.038166\n",
      "Seat belt              0.005645\n",
      "Name: violation, dtype: float64\n"
     ]
    },
    {
     "name": "stderr",
     "output_type": "stream",
     "text": [
      "C:\\Users\\Migue\\Anaconda3\\lib\\site-packages\\IPython\\core\\interactiveshell.py:3071: DtypeWarning: Columns (8,13) have mixed types.Specify dtype option on import or set low_memory=False.\n",
      "  has_raised = await self.run_ast_nodes(code_ast.body, cell_name,\n"
     ]
    }
   ],
   "source": [
    "# Import the pandas library as pd\n",
    "import pandas as pd\n",
    "\n",
    "# Read 'police.csv' into a DataFrame named ri\n",
    "ri = pd.read_csv('Traffic stops in Rhode Island.csv')\n",
    "\n",
    "# Count the unique values in 'violation'\n",
    "print(ri['violation'].value_counts())\n",
    "\n",
    "# Express the counts as proportions\n",
    "print(ri['violation'].value_counts(normalize = True))"
   ]
  },
  {
   "cell_type": "markdown",
   "metadata": {},
   "source": [
    "### Comparing violations by gender\n",
    "The question we're trying to answer is whether male and female drivers tend to commit different types of traffic violations.\n",
    "\n",
    "In this exercise, you'll first create a DataFrame for each gender, and then analyze the violations in each DataFrame separately."
   ]
  },
  {
   "cell_type": "code",
   "execution_count": 2,
   "metadata": {},
   "outputs": [
    {
     "name": "stdout",
     "output_type": "stream",
     "text": [
      "Speeding               0.703508\n",
      "Moving violation       0.134673\n",
      "Equipment              0.089652\n",
      "Registration/plates    0.039247\n",
      "Other                  0.028200\n",
      "Seat belt              0.004719\n",
      "Name: violation, dtype: float64\n",
      "Speeding               0.556342\n",
      "Moving violation       0.213740\n",
      "Equipment              0.119332\n",
      "Other                  0.066829\n",
      "Registration/plates    0.037767\n",
      "Seat belt              0.005989\n",
      "Name: violation, dtype: float64\n"
     ]
    }
   ],
   "source": [
    "# Create a DataFrame of female drivers\n",
    "female = ri[ri['driver_gender'] == 'F']\n",
    "\n",
    "# Create a DataFrame of male drivers\n",
    "male = ri[ri['driver_gender'] == 'M']\n",
    "\n",
    "# Compute the violations by female drivers (as proportions)\n",
    "print(female.violation.value_counts(normalize = 'True'))\n",
    "\n",
    "# Compute the violations by male drivers (as proportions)\n",
    "print(male.violation.value_counts(normalize = 'True'))"
   ]
  },
  {
   "cell_type": "markdown",
   "metadata": {},
   "source": [
    "### Comparing speeding outcomes by gender\n",
    "When a driver is pulled over for speeding, many people believe that gender has an impact on whether the driver will receive a ticket or a warning. Can you find evidence of this in the dataset?\n",
    "\n",
    "First, you'll create two DataFrames of drivers who were stopped for speeding: one containing females and the other containing males.\n",
    "\n",
    "Then, for each gender, you'll use the stop_outcome column to calculate what percentage of stops resulted in a \"Citation\" (meaning a ticket) versus a \"Warning\"."
   ]
  },
  {
   "cell_type": "code",
   "execution_count": 3,
   "metadata": {},
   "outputs": [
    {
     "name": "stdout",
     "output_type": "stream",
     "text": [
      "Citation            0.968831\n",
      "Warning             0.023041\n",
      "Arrest Driver       0.006234\n",
      "N/D                 0.001105\n",
      "Arrest Passenger    0.000552\n",
      "No Action           0.000237\n",
      "Name: stop_outcome, dtype: float64\n",
      "Citation            0.957197\n",
      "Warning             0.021938\n",
      "Arrest Driver       0.017498\n",
      "Arrest Passenger    0.001258\n",
      "N/D                 0.001073\n",
      "No Action           0.001036\n",
      "Name: stop_outcome, dtype: float64\n"
     ]
    }
   ],
   "source": [
    "# Create a DataFrame of female drivers stopped for speeding\n",
    "female_and_speeding = ri[(ri.driver_gender == 'F') & (ri.violation == 'Speeding')]\n",
    "\n",
    "# Create a DataFrame of male drivers stopped for speeding\n",
    "male_and_speeding = ri[(ri.driver_gender == 'M') & (ri.violation == 'Speeding')]\n",
    "\n",
    "# Compute the stop outcomes for female drivers (as proportions)\n",
    "print(female_and_speeding.stop_outcome.value_counts(normalize = True))\n",
    "\n",
    "# Compute the stop outcomes for male drivers (as proportions)\n",
    "print(male_and_speeding.stop_outcome.value_counts(normalize = True))"
   ]
  },
  {
   "cell_type": "markdown",
   "metadata": {},
   "source": [
    "### Calculating the search rate\n",
    "During a traffic stop, the police officer sometimes conducts a search of the vehicle. In this exercise, you'll calculate the percentage of all stops in the ri DataFrame that result in a vehicle search, also known as the search rate."
   ]
  },
  {
   "cell_type": "code",
   "execution_count": 5,
   "metadata": {},
   "outputs": [
    {
     "name": "stdout",
     "output_type": "stream",
     "text": [
      "object\n",
      "False    0.888087\n",
      "FALSE    0.073800\n",
      "True     0.035984\n",
      "TRUE     0.002115\n",
      "F        0.000014\n",
      "Name: search_conducted, dtype: float64\n"
     ]
    }
   ],
   "source": [
    "# Check the data type of 'search_conducted'\n",
    "print(ri.search_conducted.dtype)\n",
    "\n",
    "# Calculate the search rate by counting the values\n",
    "print(ri.search_conducted.value_counts(normalize = True))\n"
   ]
  },
  {
   "cell_type": "markdown",
   "metadata": {},
   "source": [
    "### Counting protective frisks\n",
    "During a vehicle search, the police officer may pat down the driver to check if they have a weapon. This is known as a \"protective frisk.\"\n",
    "\n",
    "In this exercise, you'll first check to see how many times \"Protective Frisk\" was the only search type. Then, you'll use a string method to locate all instances in which the driver was frisked."
   ]
  },
  {
   "cell_type": "code",
   "execution_count": 7,
   "metadata": {},
   "outputs": [
    {
     "name": "stdout",
     "output_type": "stream",
     "text": [
      "Incident to Arrest                                          1140\n",
      "Probable Cause                                               671\n",
      "Reasonable Suspicion                                         180\n",
      "Inventory                                                    171\n",
      "Protective Frisk                                             139\n",
      "Incident to Arrest,Inventory                                 103\n",
      "Incident to Arrest,Probable Cause                             80\n",
      "Incident to Arrest,Protective Frisk                           32\n",
      "Probable Cause,Reasonable Suspicion                           31\n",
      "Probable Cause,Protective Frisk                               27\n",
      "Incident to Arrest,Inventory,Probable Cause                   27\n",
      "Incident to Arrest,Inventory,Protective Frisk                 18\n",
      "Protective Frisk,Reasonable Suspicion                         17\n",
      "Inventory,Probable Cause                                      16\n",
      "Inventory,Protective Frisk                                    12\n",
      "Incident to Arrest,Probable Cause,Protective Frisk            11\n",
      "Incident to Arrest,Reasonable Suspicion                        8\n",
      "Probable Cause,Protective Frisk,Reasonable Suspicion           5\n",
      "Incident to Arrest,Probable Cause,Reasonable Suspicion         4\n",
      "Incident to Arrest,Inventory,Reasonable Suspicion              3\n",
      "Inventory,Reasonable Suspicion                                 2\n",
      "Incident to Arrest,Protective Frisk,Reasonable Suspicion       2\n",
      "Inventory,Probable Cause,Protective Frisk                      1\n",
      "Inventory,Protective Frisk,Reasonable Suspicion                1\n",
      "Inventory,Probable Cause,Reasonable Suspicion                  1\n",
      "Name: search_type, dtype: int64\n",
      "bool\n",
      "265\n"
     ]
    }
   ],
   "source": [
    "# Count the 'search_type' values\n",
    "print(ri.search_type.value_counts())\n",
    "\n",
    "# Check if 'search_type' contains the string 'Protective Frisk'\n",
    "ri['frisk'] = ri.search_type.str.contains('Protective Frisk', na=False)\n",
    "\n",
    "# Check the data type of 'frisk'\n",
    "print(ri['frisk'].dtype)\n",
    "\n",
    "# Take the sum of 'frisk'\n",
    "print(ri['frisk'].sum())"
   ]
  },
  {
   "cell_type": "markdown",
   "metadata": {},
   "source": [
    "### Comparing frisk rates by gender\n",
    "In this exercise, you'll compare the rates at which female and male drivers are frisked during a search. Are males frisked more often than females, perhaps because police officers consider them to be higher risk?\n",
    "\n",
    "Before doing any calculations, it's important to filter the DataFrame to only include the relevant subset of data, namely stops in which a search was conducted."
   ]
  },
  {
   "cell_type": "code",
   "execution_count": 8,
   "metadata": {},
   "outputs": [
    {
     "name": "stdout",
     "output_type": "stream",
     "text": [
      "0.10148902821316615\n",
      "driver_gender\n",
      "F    0.077586\n",
      "M    0.105263\n",
      "Name: frisk, dtype: float64\n"
     ]
    }
   ],
   "source": [
    "# Create a DataFrame of stops in which a search was conducted\n",
    "searched = ri[ri.search_conducted == True]\n",
    "\n",
    "# Calculate the overall frisk rate by taking the mean of 'frisk'\n",
    "print(searched.frisk.mean())\n",
    "\n",
    "# Calculate the frisk rate for each gender\n",
    "print(searched.groupby('driver_gender').frisk.mean())"
   ]
  },
  {
   "cell_type": "code",
   "execution_count": null,
   "metadata": {},
   "outputs": [],
   "source": []
  }
 ],
 "metadata": {
  "kernelspec": {
   "display_name": "Python 3",
   "language": "python",
   "name": "python3"
  },
  "language_info": {
   "codemirror_mode": {
    "name": "ipython",
    "version": 3
   },
   "file_extension": ".py",
   "mimetype": "text/x-python",
   "name": "python",
   "nbconvert_exporter": "python",
   "pygments_lexer": "ipython3",
   "version": "3.8.3"
  }
 },
 "nbformat": 4,
 "nbformat_minor": 4
}
