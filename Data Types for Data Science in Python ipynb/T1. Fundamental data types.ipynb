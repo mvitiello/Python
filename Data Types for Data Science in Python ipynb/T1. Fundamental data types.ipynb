{
 "cells": [
  {
   "cell_type": "markdown",
   "metadata": {},
   "source": [
    "# Data Types for Data Science in Python\n",
    "\n",
    "Have you got your basic Python programming chops down for Data Science but are yearning for more? Then this is the course for you. Herein, you'll consolidate and practice your knowledge of lists, dictionaries, tuples, sets, and date times. You'll see their relevance in working with lots of real data and how to leverage several of them in concert to solve multistep problems, including an extended case study using Chicago metropolitan area transit data. You'll also learn how to use many of the objects in the Python Collections module, which will allow you to store and manipulate your data for a variety of Data Scientific purposes. After taking this course, you'll be ready to tackle many Data Science challenges Pythonically.\n"
   ]
  },
  {
   "cell_type": "markdown",
   "metadata": {},
   "source": [
    "## Fundamental data types\n",
    "This chapter will introduce you to the fundamental Python data types - lists, sets, and tuples. These data containers are critical as they provide the basis for storing and looping over ordered data. To make things interesting, you'll apply what you learn about these types to answer questions about the New York Baby Names dataset!"
   ]
  },
  {
   "cell_type": "markdown",
   "metadata": {},
   "source": [
    "### Manipulating lists for fun and profit\n",
    "You may be familiar with adding individual data elements to a list by using the .append() method. However, if you want to combine a list with another array type (list, set, tuple), you can use the .extend() method on the list.\n",
    "\n",
    "You can also use the .index() method to find the position of an item in a list. You can then use that position to remove the item with the .pop() method.\n",
    "\n",
    "In this exercise, you'll practice using all these methods!"
   ]
  },
  {
   "cell_type": "code",
   "execution_count": 2,
   "metadata": {},
   "outputs": [
    {
     "name": "stdout",
     "output_type": "stream",
     "text": [
      "['Ximena', 'Aliza', 'Ayden', 'Calvin', 'Rowen', 'Sandeep']\n",
      "['Ximena', 'Ayden', 'Calvin', 'Rowen', 'Sandeep']\n"
     ]
    }
   ],
   "source": [
    "# Create a list containing the names: baby_names\n",
    "baby_names = ['Ximena', 'Aliza', 'Ayden', 'Calvin']\n",
    "\n",
    "# Use the .extend() method on baby_names to add 'Rowen' \n",
    "# and 'Sandeep' and print the list.\n",
    "baby_names.extend(['Rowen','Sandeep'])\n",
    "\n",
    "# Print baby_names\n",
    "print(baby_names)\n",
    "\n",
    "# Find the position of 'Aliza' using .index(): position\n",
    "position = baby_names.index('Aliza')\n",
    "\n",
    "# Remove 'Aliza' from baby_names using .pop()\n",
    "baby_names.pop(position)\n",
    "\n",
    "# Print baby_names\n",
    "print(baby_names)"
   ]
  },
  {
   "cell_type": "code",
   "execution_count": 3,
   "metadata": {},
   "outputs": [
    {
     "name": "stdout",
     "output_type": "stream",
     "text": [
      "['JADA', 'Emily', 'Ava', 'SERENITY', 'Claire', 'SOPHIA', 'Sarah', 'ASHLEY', 'CHAYA', 'ABIGAIL', 'Zoe', 'LEAH', 'HAILEY', 'AVA', 'Olivia', 'EMMA', 'CHLOE', 'Sophia', 'AALIYAH', 'Angela', 'Camila', 'Savannah', 'Serenity', 'Chloe', 'Fatoumata', 'ISABELLA', 'MIA', 'FIONA', 'Skylar', 'Ashley', 'Rachel', 'Sofia', 'Alina', 'MADISON', 'RACHEL', 'CAMILA', 'CHANA', 'TAYLOR', 'Kayla', 'Miriam', 'Leah', 'Grace', 'ANGELA', 'Isabella', 'Emma', 'KAYLA', 'SOFIA', 'Madison', 'Aaliyah', 'Taylor', 'GENESIS', 'Esther', 'MAKAYLA', 'Victoria', 'Chaya', 'Brielle', 'Anna', 'Samantha', 'ESTHER', 'GRACE', 'Mariam', 'Mia', 'NEVAEH', 'GABRIELLE', 'EMILY', 'London', 'TIFFANY', 'Chana', 'Valentina', 'OLIVIA', 'LONDON', 'MIRIAM', 'SARAH', 'ELLA']\n"
     ]
    }
   ],
   "source": [
    "girl_names = ['JADA',\n",
    " 'Emily',\n",
    " 'Ava',\n",
    " 'SERENITY',\n",
    " 'Claire',\n",
    " 'SOPHIA',\n",
    " 'Sarah',\n",
    " 'ASHLEY',\n",
    " 'CHAYA',\n",
    " 'ABIGAIL',\n",
    " 'Zoe',\n",
    " 'LEAH',\n",
    " 'HAILEY',\n",
    " 'AVA',\n",
    " 'Olivia',\n",
    " 'EMMA',\n",
    " 'CHLOE',\n",
    " 'Sophia',\n",
    " 'AALIYAH',\n",
    " 'Angela',\n",
    " 'Camila',\n",
    " 'Savannah',\n",
    " 'Serenity',\n",
    " 'Chloe',\n",
    " 'Fatoumata',\n",
    " 'ISABELLA',\n",
    " 'MIA',\n",
    " 'FIONA',\n",
    " 'Skylar',\n",
    " 'Ashley',\n",
    " 'Rachel',\n",
    " 'Sofia',\n",
    " 'Alina',\n",
    " 'MADISON',\n",
    " 'RACHEL',\n",
    " 'CAMILA',\n",
    " 'CHANA',\n",
    " 'TAYLOR',\n",
    " 'Kayla',\n",
    " 'Miriam',\n",
    " 'Leah',\n",
    " 'Grace',\n",
    " 'ANGELA',\n",
    " 'Isabella',\n",
    " 'Emma',\n",
    " 'KAYLA',\n",
    " 'SOFIA',\n",
    " 'Madison',\n",
    " 'Aaliyah',\n",
    " 'Taylor',\n",
    " 'GENESIS',\n",
    " 'Esther',\n",
    " 'MAKAYLA',\n",
    " 'Victoria',\n",
    " 'Chaya',\n",
    " 'Brielle',\n",
    " 'Anna',\n",
    " 'Samantha',\n",
    " 'ESTHER',\n",
    " 'GRACE',\n",
    " 'Mariam',\n",
    " 'Mia',\n",
    " 'NEVAEH',\n",
    " 'GABRIELLE',\n",
    " 'EMILY',\n",
    " 'London',\n",
    " 'TIFFANY',\n",
    " 'Chana',\n",
    " 'Valentina',\n",
    " 'OLIVIA',\n",
    " 'LONDON',\n",
    " 'MIRIAM',\n",
    " 'SARAH',\n",
    " 'ELLA']\n",
    "\n",
    "\n",
    "\n",
    "print(girl_names)"
   ]
  },
  {
   "cell_type": "code",
   "execution_count": 5,
   "metadata": {},
   "outputs": [
    {
     "name": "stdout",
     "output_type": "stream",
     "text": [
      "['JOSIAH', 'ETHAN', 'David', 'Jayden', 'MASON', 'RYAN', 'CHRISTIAN', 'ISAIAH', 'JAYDEN', 'Michael', 'NOAH', 'SAMUEL', 'SEBASTIAN', 'Noah', 'Dylan', 'LUCAS', 'JOSHUA', 'ANGEL', 'Jacob', 'Matthew', 'Josiah', 'JACOB', 'Muhammad', 'ALEXANDER', 'Jason', 'Ethan', 'DANIEL', 'Joseph', 'AIDEN', 'Moshe', 'Jeremiah', 'William', 'Alexander', 'Sebastian', 'ERIC', 'MOSHE', 'Jack', 'Eric', 'MUHAMMAD', 'Lucas', 'BENJAMIN', 'Aiden', 'Ryan', 'Liam', 'JASON', 'KEVIN', 'Elijah', 'Angel', 'JAMES', 'Daniel', 'Samuel', 'Amir', 'Mason', 'Joshua', 'ANTHONY', 'JOSEPH', 'Benjamin', 'JUSTIN', 'JEREMIAH', 'MATTHEW', 'Carter', 'James', 'TYLER', 'DAVID', 'JACK', 'ELIJAH', 'MICHAEL', 'CHRISTOPHER']\n"
     ]
    }
   ],
   "source": [
    "boy_names = ['JOSIAH',\n",
    " 'ETHAN',\n",
    " 'David',\n",
    " 'Jayden',\n",
    " 'MASON',\n",
    " 'RYAN',\n",
    " 'CHRISTIAN',\n",
    " 'ISAIAH',\n",
    " 'JAYDEN',\n",
    " 'Michael',\n",
    " 'NOAH',\n",
    " 'SAMUEL',\n",
    " 'SEBASTIAN',\n",
    " 'Noah',\n",
    " 'Dylan',\n",
    " 'LUCAS',\n",
    " 'JOSHUA',\n",
    " 'ANGEL',\n",
    " 'Jacob',\n",
    " 'Matthew',\n",
    " 'Josiah',\n",
    " 'JACOB',\n",
    " 'Muhammad',\n",
    " 'ALEXANDER',\n",
    " 'Jason',\n",
    " 'Ethan',\n",
    " 'DANIEL',\n",
    " 'Joseph',\n",
    " 'AIDEN',\n",
    " 'Moshe',\n",
    " 'Jeremiah',\n",
    " 'William',\n",
    " 'Alexander',\n",
    " 'Sebastian',\n",
    " 'ERIC',\n",
    " 'MOSHE',\n",
    " 'Jack',\n",
    " 'Eric',\n",
    " 'MUHAMMAD',\n",
    " 'Lucas',\n",
    " 'BENJAMIN',\n",
    " 'Aiden',\n",
    " 'Ryan',\n",
    " 'Liam',\n",
    " 'JASON',\n",
    " 'KEVIN',\n",
    " 'Elijah',\n",
    " 'Angel',\n",
    " 'JAMES',\n",
    " 'Daniel',\n",
    " 'Samuel',\n",
    " 'Amir',\n",
    " 'Mason',\n",
    " 'Joshua',\n",
    " 'ANTHONY',\n",
    " 'JOSEPH',\n",
    " 'Benjamin',\n",
    " 'JUSTIN',\n",
    " 'JEREMIAH',\n",
    " 'MATTHEW',\n",
    " 'Carter',\n",
    " 'James',\n",
    " 'TYLER',\n",
    " 'DAVID',\n",
    " 'JACK',\n",
    " 'ELIJAH',\n",
    " 'MICHAEL',\n",
    " 'CHRISTOPHER']\n",
    "\n",
    "print(boy_names)"
   ]
  },
  {
   "cell_type": "markdown",
   "metadata": {},
   "source": [
    "### Using and unpacking tuples\n",
    "Tuples are made of several items just like a list, but they cannot be modified in any way. It is very common for tuples to be used to represent data from a database. If you have a tuple like ('chocolate chip cookies', 15) and you want to access each part of the data, you can use an index just like a list. However, you can also \"unpack\" the tuple into multiple variables such as type, count = ('chocolate chip cookies', 15) that will set type to 'chocolate chip cookies' and count to 15.\n",
    "\n",
    "Often you'll want to pair up multiple array data types. The zip() function does just that. It will return a list of tuples containing one element from each list passed into zip().\n",
    "\n",
    "When looping over a list, you can also track your position in the list by using the enumerate() function. The function returns the index of the list item you are currently on in the list and the list item itself.\n",
    "\n",
    "You'll practice using the enumerate() and zip() functions in this exercise, in which your job is to pair up the most common boy and girl names. Two lists - girl_names and boy_names - have been pre-loaded into your workspace."
   ]
  },
  {
   "cell_type": "code",
   "execution_count": 6,
   "metadata": {},
   "outputs": [
    {
     "name": "stdout",
     "output_type": "stream",
     "text": [
      "Rank 0: JADA and JOSIAH\n",
      "Rank 1: Emily and ETHAN\n",
      "Rank 2: Ava and David\n",
      "Rank 3: SERENITY and Jayden\n",
      "Rank 4: Claire and MASON\n",
      "Rank 5: SOPHIA and RYAN\n",
      "Rank 6: Sarah and CHRISTIAN\n",
      "Rank 7: ASHLEY and ISAIAH\n",
      "Rank 8: CHAYA and JAYDEN\n",
      "Rank 9: ABIGAIL and Michael\n",
      "Rank 10: Zoe and NOAH\n",
      "Rank 11: LEAH and SAMUEL\n",
      "Rank 12: HAILEY and SEBASTIAN\n",
      "Rank 13: AVA and Noah\n",
      "Rank 14: Olivia and Dylan\n",
      "Rank 15: EMMA and LUCAS\n",
      "Rank 16: CHLOE and JOSHUA\n",
      "Rank 17: Sophia and ANGEL\n",
      "Rank 18: AALIYAH and Jacob\n",
      "Rank 19: Angela and Matthew\n",
      "Rank 20: Camila and Josiah\n",
      "Rank 21: Savannah and JACOB\n",
      "Rank 22: Serenity and Muhammad\n",
      "Rank 23: Chloe and ALEXANDER\n",
      "Rank 24: Fatoumata and Jason\n",
      "Rank 25: ISABELLA and Ethan\n",
      "Rank 26: MIA and DANIEL\n",
      "Rank 27: FIONA and Joseph\n",
      "Rank 28: Skylar and AIDEN\n",
      "Rank 29: Ashley and Moshe\n",
      "Rank 30: Rachel and Jeremiah\n",
      "Rank 31: Sofia and William\n",
      "Rank 32: Alina and Alexander\n",
      "Rank 33: MADISON and Sebastian\n",
      "Rank 34: RACHEL and ERIC\n",
      "Rank 35: CAMILA and MOSHE\n",
      "Rank 36: CHANA and Jack\n",
      "Rank 37: TAYLOR and Eric\n",
      "Rank 38: Kayla and MUHAMMAD\n",
      "Rank 39: Miriam and Lucas\n",
      "Rank 40: Leah and BENJAMIN\n",
      "Rank 41: Grace and Aiden\n",
      "Rank 42: ANGELA and Ryan\n",
      "Rank 43: Isabella and Liam\n",
      "Rank 44: Emma and JASON\n",
      "Rank 45: KAYLA and KEVIN\n",
      "Rank 46: SOFIA and Elijah\n",
      "Rank 47: Madison and Angel\n",
      "Rank 48: Aaliyah and JAMES\n",
      "Rank 49: Taylor and Daniel\n",
      "Rank 50: GENESIS and Samuel\n",
      "Rank 51: Esther and Amir\n",
      "Rank 52: MAKAYLA and Mason\n",
      "Rank 53: Victoria and Joshua\n",
      "Rank 54: Chaya and ANTHONY\n",
      "Rank 55: Brielle and JOSEPH\n",
      "Rank 56: Anna and Benjamin\n",
      "Rank 57: Samantha and JUSTIN\n",
      "Rank 58: ESTHER and JEREMIAH\n",
      "Rank 59: GRACE and MATTHEW\n",
      "Rank 60: Mariam and Carter\n",
      "Rank 61: Mia and James\n",
      "Rank 62: NEVAEH and TYLER\n",
      "Rank 63: GABRIELLE and DAVID\n",
      "Rank 64: EMILY and JACK\n",
      "Rank 65: London and ELIJAH\n",
      "Rank 66: TIFFANY and MICHAEL\n",
      "Rank 67: Chana and CHRISTOPHER\n"
     ]
    }
   ],
   "source": [
    "# Pair up the girl and boy names: pairs\n",
    "pairs = zip(girl_names, boy_names)\n",
    "\n",
    "# Iterate over pairs\n",
    "for idx, pair in enumerate(pairs):\n",
    "    # Unpack pair: girl_name, boy_name\n",
    "    girl_name, boy_name = pair\n",
    "    # Print the rank and names associated with each rank\n",
    "    print('Rank {}: {} and {}'.format(idx, girl_name,boy_name ))"
   ]
  },
  {
   "cell_type": "markdown",
   "metadata": {},
   "source": [
    "### Making tuples by accident\n",
    "Tuples are very powerful and useful, and it's super easy to make one by accident. All you have to do is create a variable and follow the assignment with a comma. This becomes an error when you try to use the variable later expecting it to be a string or a number.\n",
    "\n",
    "You can verify the data type of a variable with the type() function. In this exercise, you'll see for yourself how easy it is to make a tuple by accident."
   ]
  },
  {
   "cell_type": "code",
   "execution_count": 7,
   "metadata": {},
   "outputs": [
    {
     "name": "stdout",
     "output_type": "stream",
     "text": [
      "<class 'str'>\n",
      "<class 'tuple'>\n"
     ]
    }
   ],
   "source": [
    "# Create the normal variable: normal\n",
    "normal = 'simple'\n",
    "\n",
    "# Create the mistaken variable: error\n",
    "error = 'trailing comma',\n",
    "\n",
    "# Print the types of the variables\n",
    "print(type(normal))\n",
    "print(type(error))"
   ]
  },
  {
   "cell_type": "markdown",
   "metadata": {},
   "source": [
    "### Finding all the data and the overlapping data between sets\n",
    "Sets have several methods to combine, compare, and study them all based on mathematical set theory. The .union() method returns a set of all the names found in the set you used the method on plus any sets passed as arguments to the method. You can also look for overlapping data in sets by using the .intersection() method on a set and passing another set as an argument. It will return an empty set if nothing matches.\n",
    "\n",
    "Your job in this exercise is to find the union and intersection in the names from 2011 and 2014. For this purpose, two sets have been pre-loaded into your workspace: baby_names_2011 and baby_names_2014.\n",
    "\n",
    "One quirk in the baby names dataset is that names in 2011 and 2012 are all in upper case, while names in 2013 and 2014 are in title case (where the first letter of each name is capitalized). Consequently, if you were to compare the 2011 and 2014 data in this form, you would find no overlapping names between the two years! To remedy this, we converted the names in 2011 to title case using Python's .title() method.\n",
    "\n",
    "Real-world data can often come with quirks like this - it's important to catch them to ensure your results are meaningful."
   ]
  },
  {
   "cell_type": "code",
   "execution_count": 36,
   "metadata": {},
   "outputs": [
    {
     "name": "stdout",
     "output_type": "stream",
     "text": [
      "1461\n",
      "986\n"
     ]
    }
   ],
   "source": [
    "import pandas as pd\n",
    "records = pd.DataFrame(records)\n",
    "records2011 = records[records['BRITH_YEAR'] == 2011]\n",
    "records2014 = records[records['BRITH_YEAR'] == 2014]\n",
    "\n",
    "baby_names_2011 = set(records2011['NAME'].str.title())\n",
    "baby_names_2014 = set(records2014['NAME'])\n",
    "\n",
    "# Combine all the names in baby_names_2011 and baby_names_2014 by computing their \n",
    "# union. Store the result as all_names.\n",
    "all_names = baby_names_2011.union(baby_names_2014)\n",
    "\n",
    "# Print the number of names that occur in all_names. You can use the len() function\n",
    "# to compute the number of names in all_names.\n",
    "print(len(all_names))\n",
    "\n",
    "# Find the intersection: overlapping_names\n",
    "overlapping_names = baby_names_2011.intersection(baby_names_2014)\n",
    "\n",
    "# Print the count of names in overlapping_names\n",
    "print(len(overlapping_names))"
   ]
  },
  {
   "cell_type": "markdown",
   "metadata": {},
   "source": [
    "### Determining set differences\n",
    "Another way of comparing sets is to use the difference() method. It returns all the items found in one set but not another. It's important to remember the set you call the method on will be the one from which the items are returned. Unlike tuples, you can add() items to a set. A set will only add items that do not exist in the set.\n",
    "\n",
    "In this exercise, you'll explore what names were common in 2011, but are no longer common in 2014. The set baby_names_2014 has been pre-loaded into your workspace. As in the previous exercise, the names have been converted to title case to ensure a proper comparison."
   ]
  },
  {
   "cell_type": "code",
   "execution_count": 39,
   "metadata": {},
   "outputs": [
    {
     "name": "stdout",
     "output_type": "stream",
     "text": [
      "{'Ingrid', 'Diya', 'Cristina', 'Elianna', 'Roselyn', 'Anika', 'Johnathan', 'Keily', 'Hayley', 'Yu', 'Cody', 'Tzivia', 'Yair', 'Sidney', 'Yachet', 'Yida', 'Sekou', 'Kacper', 'Shneur', 'Stacy', 'Leela', 'Julien', 'Amrom', 'Kelvin', 'Makai', 'Dereck', 'Gittel', 'Nathalia', 'Rihanna', 'Nana', 'Ariela', 'Jaime', 'Gustavo', 'Roger', 'Jencarlos', 'Derrick', 'Carmine', 'Idy', 'Geraldine', 'Sade', \"Amar'E\", 'Troy', 'Princess', 'Leonel', 'Xin', 'Raquel', 'Zyaire', 'Maurice', 'Byron', 'Maximo', 'Jeancarlos', 'Jacky', 'Jamel', 'Annabel', 'Marisol', 'Amani', 'Yehudah', 'Jeremias', 'Tamia', 'Zahra', 'Jermaine', 'Ahron', 'Luz', 'Yerik', 'Keith', 'Christy', 'Paola', 'Giovanny', 'Alyson', 'Johann', 'Alec', 'Shevy', 'Milena', 'Fernanda', 'Brianny', 'Aditya', 'Perla', 'Shaniya', 'Essence', 'Denise', 'Krystal', 'Augustus', 'Cristopher', 'Michal', 'Kaelyn', 'Damaris', 'Malcolm', 'Ilan', 'Jaylyn', 'Alfredo', 'Lamar', 'Christine', 'Nataly', 'Marquis', 'Yaniel', 'Jaelynn', 'Mckenzie', 'Aldo', 'Jelani', 'Johanna', 'Cassandra', 'Kaliyah', 'Jamal', 'Samiyah', 'Soraya', 'Alisson', 'Terrence', 'Elianny', 'Finley', 'Jaslene', 'Hadassa', 'Cheyenne', 'Greta', 'Rifka', 'Estrella', 'Terry', 'Ashly', 'Armando', 'Analia', 'Freddy', 'Janiel', 'Noemi', 'Haley', 'Kailyn', 'Larry', 'Isis', 'Darius', 'Nigel', 'Farhan', 'Zaria', 'Breindy', 'Dwayne', 'Eshal', 'Giovani', 'Kathryn', 'Abdiel', 'Jaheim', 'Alijah', 'Terrell', 'Kenya', 'Maksim', 'Miah', 'Jasmin', 'Nikolas', 'Zahara', 'Savanna', 'Stephany', 'Jia', 'Aimee', 'Simi', 'Kiyan', 'Aarav', 'Corey', 'Renee', 'Kayleigh', 'Dulce', 'Scarlet', 'Samiya', 'Tomas', 'Jahmir', 'Janiya', 'Kymani', 'Devon', 'Yechezkel', 'Eddie', 'Saniya', 'Royce', 'Taraji', 'Tabitha', 'Veronika', 'Kamiyah', 'Isiah', 'Mauricio', 'Dalia', 'Chad', 'Bonnie', 'Nehemiah', 'Miri', 'Rodney', 'Batya', 'Jazmine', 'Shaul', 'Janiyah', 'Nicolette', 'Isabela', 'Tanisha', 'Angely', 'Tina', 'Nancy', 'Arturo', 'Ishmael', 'Elise', 'Zalmen', 'Dana', 'Abdul', 'Arianny', 'Ousmane', 'Jamir', 'Yamilet', 'Yonah', 'Jamie', 'Jaliyah', 'Katelynn', 'Lesley', 'Natasha', 'Britney', 'Elliana', 'Shania', 'Heidy', 'Cristofer', 'Ishaan', 'Symphony', 'Januel', 'Miley', 'Franklin', 'Casey', 'Ilana', 'Tzippy', 'Kameron', 'Viviana'}\n",
      "220\n"
     ]
    }
   ],
   "source": [
    "differences = baby_names_2011.difference(baby_names_2014)\n",
    "# Print the differences\n",
    "print(differences)\n",
    "print(len(differences))"
   ]
  },
  {
   "cell_type": "code",
   "execution_count": null,
   "metadata": {},
   "outputs": [],
   "source": []
  }
 ],
 "metadata": {
  "kernelspec": {
   "display_name": "Python 3",
   "language": "python",
   "name": "python3"
  },
  "language_info": {
   "codemirror_mode": {
    "name": "ipython",
    "version": 3
   },
   "file_extension": ".py",
   "mimetype": "text/x-python",
   "name": "python",
   "nbconvert_exporter": "python",
   "pygments_lexer": "ipython3",
   "version": "3.8.5"
  }
 },
 "nbformat": 4,
 "nbformat_minor": 4
}
