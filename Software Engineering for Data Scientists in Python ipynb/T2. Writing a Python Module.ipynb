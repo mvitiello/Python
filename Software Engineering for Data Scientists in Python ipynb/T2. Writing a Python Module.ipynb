{
 "cells": [
  {
   "cell_type": "markdown",
   "metadata": {},
   "source": [
    "## Writing a Python Module\n",
    "\n",
    "Become a fully fledged Python package developer by writing your first package! You'll learn how to structure and write Python code that you can be installed, used, and distributed just like famous packages such as NumPy and Pandas."
   ]
  },
  {
   "cell_type": "markdown",
   "metadata": {},
   "source": [
    "### Adding functionality to your package\n",
    "Thanks to your work before, you already have a skeleton for your python package. In this exercise, you will work to define the functions needed for a text analysis of word usage.\n",
    "\n",
    "In the file counter_utils.py, you will write 2 functions to be a part of your package: plot_counter and sum_counters"
   ]
  },
  {
   "cell_type": "code",
   "execution_count": 1,
   "metadata": {},
   "outputs": [],
   "source": [
    "# Import needed functionality\n",
    "from collections import Counter\n",
    "\n",
    "def plot_counter(counter, n_most_common=5):\n",
    "  # Subset the n_most_common items from the input counter\n",
    "  top_items = counter.most_common(n_most_common)\n",
    "  # Plot `top_items`\n",
    "  plot_counter_most_common(top_items)\n",
    "    \n",
    "\n",
    "def sum_counters(counters):\n",
    "  # Sum the inputted counters\n",
    "  return sum(counters, Counter())\n"
   ]
  },
  {
   "cell_type": "code",
   "execution_count": null,
   "metadata": {},
   "outputs": [],
   "source": []
  }
 ],
 "metadata": {
  "kernelspec": {
   "display_name": "Python 3",
   "language": "python",
   "name": "python3"
  },
  "language_info": {
   "codemirror_mode": {
    "name": "ipython",
    "version": 3
   },
   "file_extension": ".py",
   "mimetype": "text/x-python",
   "name": "python",
   "nbconvert_exporter": "python",
   "pygments_lexer": "ipython3",
   "version": "3.8.3"
  }
 },
 "nbformat": 4,
 "nbformat_minor": 4
}
