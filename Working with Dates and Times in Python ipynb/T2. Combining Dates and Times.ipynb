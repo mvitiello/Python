{
 "cells": [
  {
   "cell_type": "markdown",
   "metadata": {},
   "source": [
    "## Combining Dates and Times\n",
    "\n",
    "Bike sharing programs have swept through cities around the world -- and luckily for us, every trip gets recorded! Working with all of the comings and goings of one bike in Washington, D.C., you'll practice working with dates and times together. You'll parse dates and times from text, analyze peak trip times, calculate ride durations, and more."
   ]
  },
  {
   "cell_type": "markdown",
   "metadata": {},
   "source": [
    "### Creating datetimes by hand\n",
    "Often you create datetime objects based on outside data. Sometimes though, you want to create a datetime object from scratch.\n",
    "\n",
    "You're going to create a few different datetime objects from scratch to get the hang of that process. These come from the bikeshare data set that you'll use throughout the rest of the chapter."
   ]
  },
  {
   "cell_type": "code",
   "execution_count": 1,
   "metadata": {},
   "outputs": [
    {
     "name": "stdout",
     "output_type": "stream",
     "text": [
      "2017-10-01T15:26:26\n"
     ]
    }
   ],
   "source": [
    "# Import datetime\n",
    "from datetime import datetime\n",
    "\n",
    "# Create a datetime object\n",
    "dt = datetime(2017, 10, 1, 15, 26, 26)\n",
    "\n",
    "# Print the results in ISO 8601 format\n",
    "print(dt.isoformat())"
   ]
  },
  {
   "cell_type": "code",
   "execution_count": 2,
   "metadata": {},
   "outputs": [
    {
     "name": "stdout",
     "output_type": "stream",
     "text": [
      "1917-12-31 15:19:13\n"
     ]
    }
   ],
   "source": [
    "# Create a new datetime by replacing the year in dt with 1917 (instead of 2017)\n",
    "\n",
    "# Create a datetime object\n",
    "dt = datetime(2017, 12, 31, 15, 19, 13)\n",
    "\n",
    "# Replace the year with 1917\n",
    "dt_old = dt.replace(year=1917)\n",
    "\n",
    "# Print the results in ISO 8601 format\n",
    "print(dt_old)"
   ]
  },
  {
   "cell_type": "markdown",
   "metadata": {},
   "source": [
    "### Turning strings into datetimes\n",
    "When you download data from the Internet, dates and times usually come to you as strings. Often the first step is to turn those strings into datetime objects.\n",
    "\n",
    "In this exercise, you will practice this transformation.\n",
    "\n",
    "Reference\t\n",
    "\n",
    "%Y\t4 digit year (0000-9999)\n",
    "\n",
    "%m\t2 digit month (1-12)\n",
    "\n",
    "%d\t2 digit day (1-31)\n",
    "\n",
    "%H\t2 digit hour (0-23)\n",
    "\n",
    "%M\t2 digit minute (0-59)\n",
    "\n",
    "%S\t2 digit second (0-59)"
   ]
  },
  {
   "cell_type": "code",
   "execution_count": 10,
   "metadata": {},
   "outputs": [
    {
     "name": "stdout",
     "output_type": "stream",
     "text": [
      "2017-02-03 00:00:01\n"
     ]
    }
   ],
   "source": [
    "# Starting string, in YYYY-MM-DD HH:MM:SS format\n",
    "s = '2017-02-03 00:00:01'\n",
    "\n",
    "# Write a format string to parse s\n",
    "fmt = '%Y-%m-%d %H:%M:%S'\n",
    "\n",
    "# Create a datetime object d\n",
    "d = datetime.strptime(s, fmt)\n",
    "\n",
    "# Print d\n",
    "print(d)"
   ]
  },
  {
   "cell_type": "markdown",
   "metadata": {},
   "source": [
    "### Recreating ISO format with strftime()\n",
    "In the last chapter, you used strftime() to create strings from date objects. Now that you know about datetime objects, let's practice doing something similar.\n",
    "\n",
    "Re-create the .isoformat() method, using .strftime(), and print the first trip start in our data set.\n",
    "\n",
    "Reference\n",
    "\n",
    "%Y\t--> 4 digit year (0000-9999)\n",
    "\n",
    "%m\t--> 2 digit month (1-12)\n",
    "\n",
    "%d\t--> 2 digit day (1-31)\n",
    "\n",
    "%H\t--> 2 digit hour (0-23)\n",
    "\n",
    "%M\t--> 2 digit minute (0-59)\n",
    "\n",
    "%S\t--> 2 digit second (0-59)"
   ]
  },
  {
   "cell_type": "code",
   "execution_count": 20,
   "metadata": {},
   "outputs": [
    {
     "name": "stdout",
     "output_type": "stream",
     "text": [
      "1988-08-04\n",
      "1988-08-04T00:00:00\n"
     ]
    }
   ],
   "source": [
    "import pandas as pd\n",
    "import pickle\n",
    "florida_hurricane_dates= pd.read_pickle('florida_hurricane_dates.pkl')\n",
    "\n",
    "# Pull out the start of the first trip\n",
    "first_start = florida_hurricane_dates[0]\n",
    "\n",
    "# Format to feed to strftime()\n",
    "fmt = \"%Y-%m-%dT%H:%M:%S\"\n",
    "\n",
    "# Print out date with .isoformat(), then with .strftime() to compare\n",
    "print(first_start.isoformat())\n",
    "print(first_start.strftime(fmt))\n"
   ]
  },
  {
   "cell_type": "markdown",
   "metadata": {},
   "source": [
    "### Unix timestamps\n",
    "Datetimes are sometimes stored as Unix timestamps: the number of seconds since January 1, 1970. This is especially common with computer infrastructure, like the log files that websites keep when they get visitors."
   ]
  },
  {
   "cell_type": "code",
   "execution_count": 21,
   "metadata": {},
   "outputs": [
    {
     "name": "stdout",
     "output_type": "stream",
     "text": [
      "[datetime.datetime(2017, 12, 30, 21, 19, 13), datetime.datetime(2017, 12, 30, 21, 9, 3)]\n"
     ]
    }
   ],
   "source": [
    "# Starting timestamps\n",
    "timestamps = [1514665153, 1514664543]\n",
    "\n",
    "# Datetime objects\n",
    "dts = []\n",
    "\n",
    "# Loop\n",
    "for ts in timestamps:\n",
    "  dts.append(datetime.fromtimestamp(ts))\n",
    "  \n",
    "# Print results\n",
    "print(dts)"
   ]
  },
  {
   "cell_type": "markdown",
   "metadata": {},
   "source": [
    "### Turning pairs of datetimes into durations\n",
    "When working with timestamps, we often want to know how much time has elapsed between events. Thankfully, we can use datetime arithmetic to ask Python to do the heavy lifting for us so we don't need to worry about day, month, or year boundaries. Let's calculate the number of seconds that the bike was out of the dock for each trip.\n",
    "\n",
    "Continuing our work from a previous coding exercise, the bike trip data has been loaded as the list onebike_datetimes. Each element of the list consists of two datetime objects, corresponding to the start and end of a trip, respectively."
   ]
  },
  {
   "cell_type": "code",
   "execution_count": 43,
   "metadata": {},
   "outputs": [
    {
     "name": "stdout",
     "output_type": "stream",
     "text": [
      "              Start date             End date  Start station number  \\\n",
      "0    2017-10-01 15:23:25  2017-10-01 15:26:26                 31038   \n",
      "1    2017-10-01 15:42:57  2017-10-01 17:49:59                 31036   \n",
      "2    2017-10-02 06:37:10  2017-10-02 06:42:53                 31036   \n",
      "3    2017-10-02 08:56:45  2017-10-02 09:18:03                 31037   \n",
      "4    2017-10-02 18:23:48  2017-10-02 18:45:05                 31295   \n",
      "..                   ...                  ...                   ...   \n",
      "285  2017-12-29 14:32:55  2017-12-29 14:43:46                 31242   \n",
      "286  2017-12-29 15:08:26  2017-12-29 15:18:51                 31265   \n",
      "287  2017-12-29 20:33:34  2017-12-29 20:38:13                 31613   \n",
      "288  2017-12-30 13:51:03  2017-12-30 13:54:33                 31618   \n",
      "289  2017-12-30 15:09:03  2017-12-30 15:19:13                 31610   \n",
      "\n",
      "                                         Start station  End station number  \\\n",
      "0                                 Glebe Rd & 11th St N               31036   \n",
      "1                        George Mason Dr & Wilson Blvd               31036   \n",
      "2                        George Mason Dr & Wilson Blvd               31037   \n",
      "3                 Ballston Metro / N Stuart & 9th St N               31295   \n",
      "4                                    Potomac & M St NW               31230   \n",
      "..                                                 ...                 ...   \n",
      "285                      18th St & Pennsylvania Ave NW               31265   \n",
      "286                      5th St & Massachusetts Ave NW               31613   \n",
      "287  Eastern Market Metro / Pennsylvania Ave & 7th ...               31618   \n",
      "288                           4th & East Capitol St NE               31610   \n",
      "289       Eastern Market / 7th & North Carolina Ave SE               31272   \n",
      "\n",
      "                                           End station Bike number Member type  \n",
      "0                        George Mason Dr & Wilson Blvd      W20529      Member  \n",
      "1                        George Mason Dr & Wilson Blvd      W20529      Casual  \n",
      "2                 Ballston Metro / N Stuart & 9th St N      W20529      Member  \n",
      "3                                    Potomac & M St NW      W20529      Member  \n",
      "4                        Metro Center / 12th & G St NW      W20529      Member  \n",
      "..                                                 ...         ...         ...  \n",
      "285                      5th St & Massachusetts Ave NW      W20529      Member  \n",
      "286  Eastern Market Metro / Pennsylvania Ave & 7th ...      W20529      Casual  \n",
      "287                           4th & East Capitol St NE      W20529      Member  \n",
      "288       Eastern Market / 7th & North Carolina Ave SE      W20529      Member  \n",
      "289               Washington & Independence Ave SW/HHS      W20529      Member  \n",
      "\n",
      "[290 rows x 8 columns]\n"
     ]
    },
    {
     "data": {
      "text/plain": [
       "0   00:03:01\n",
       "1   02:07:02\n",
       "2   00:05:43\n",
       "3   00:21:18\n",
       "4   00:21:17\n",
       "dtype: timedelta64[ns]"
      ]
     },
     "execution_count": 43,
     "metadata": {},
     "output_type": "execute_result"
    }
   ],
   "source": [
    "bike = pd.read_csv('capital-onebike.csv')\n",
    "\n",
    "print(bike)\n",
    "\n",
    "trip_duration = pd.to_datetime(bike['End date']) - pd.to_datetime(bike['Start date'])\n",
    "trip_duration.head()"
   ]
  },
  {
   "cell_type": "code",
   "execution_count": null,
   "metadata": {},
   "outputs": [],
   "source": []
  }
 ],
 "metadata": {
  "kernelspec": {
   "display_name": "Python 3",
   "language": "python",
   "name": "python3"
  },
  "language_info": {
   "codemirror_mode": {
    "name": "ipython",
    "version": 3
   },
   "file_extension": ".py",
   "mimetype": "text/x-python",
   "name": "python",
   "nbconvert_exporter": "python",
   "pygments_lexer": "ipython3",
   "version": "3.8.3"
  }
 },
 "nbformat": 4,
 "nbformat_minor": 4
}
